{
 "cells": [
  {
   "cell_type": "markdown",
   "id": "8e484438",
   "metadata": {},
   "source": [
    "# Example analysis notebook"
   ]
  },
  {
   "cell_type": "markdown",
   "id": "6a15007b",
   "metadata": {},
   "source": [
    "In this notebook, we will go through the basics of: \n",
    "\n",
    "1. Load pre-processed data\n",
    "\n",
    "2. Synchronize to behavioral data\n",
    "\n",
    "3. Process the behavioral data \n",
    "\n",
    "4. Create epochs\n",
    "\n",
    "5. Downsample the epoched data \n",
    "\n",
    "6. Look for IEDs (**automatic** or manual) \n",
    "\n",
    "7. Save the epoched data \n",
    "\n",
    "8. Compute TFR and drop IED trials if you care about low frequencies. \n",
    "\n",
    "9. Plot\n",
    "\n",
    "10. Example of statistical analyses (TODO)"
   ]
  },
  {
   "cell_type": "markdown",
   "id": "487ed4af",
   "metadata": {},
   "source": [
    "The main point of this notebook is to make epoched data **CORRECTLY** as this will be the crux of many, many analyses in the future, and to provide tools for IED detection in epochs (both automatic and manual)."
   ]
  },
  {
   "cell_type": "markdown",
   "id": "dd473976",
   "metadata": {},
   "source": [
    "On IEDS: \n",
    "\n",
    "- Great images of interictal and ictal spiking: \n",
    "\n",
    "    1. https://pubmed.ncbi.nlm.nih.gov/32007920/\n",
    "    \n",
    "    2. https://www.sciencedirect.com/science/article/pii/S1059131119304200\n",
    "\n",
    "- More on IEDs: \n",
    "\n",
    "    1. https://www.frontiersin.org/articles/10.3389/fnhum.2020.00044/full\n",
    "\n",
    "    2. Why removing trials with IEDs might be important for generalizable conclusions about behavior: \n",
    "    \n",
    "    https://www.ncbi.nlm.nih.gov/pmc/articles/PMC3770206/\n",
    "    \n",
    "    https://academic.oup.com/cercorcomms/article/2/2/tgab019/6179205\n",
    "    \n",
    "- Especially for low frequencies (sub-gamma) this is important! \"Low-frequency power remained elevated for several seconds following the IED... Low-frequency power was elevated and high-frequency power suppressed in pre-IED epochs compared with non-IED epochs.\"\n"
   ]
  },
  {
   "cell_type": "code",
   "execution_count": 1,
   "id": "af2e6b18",
   "metadata": {},
   "outputs": [],
   "source": [
    "%matplotlib inline\n",
    "%reload_ext autoreload\n",
    "%autoreload 2"
   ]
  },
  {
   "cell_type": "code",
   "execution_count": 2,
   "id": "f908b254",
   "metadata": {},
   "outputs": [],
   "source": [
    "import numpy as np\n",
    "import mne\n",
    "from glob import glob\n",
    "import matplotlib.pyplot as plt\n",
    "from matplotlib.backends.backend_pdf import PdfPages\n",
    "import seaborn as sns\n",
    "import scipy\n",
    "from scipy.stats import zscore, linregress\n",
    "import pandas as pd\n",
    "from mne.preprocessing.bads import _find_outliers\n",
    "\n",
    "import warnings\n",
    "warnings.filterwarnings('ignore')"
   ]
  },
  {
   "cell_type": "code",
   "execution_count": 3,
   "id": "2bdeb510",
   "metadata": {},
   "outputs": [],
   "source": [
    "import sys\n",
    "sys.path.append('/Users/christinamaher/Documents/Github/LFPAnalysis')\n"
   ]
  },
  {
   "cell_type": "code",
   "execution_count": 4,
   "id": "e3b0bfd9",
   "metadata": {},
   "outputs": [],
   "source": [
    "from LFPAnalysis import lfp_preprocess_utils, sync_utils, analysis_utils\n"
   ]
  },
  {
   "cell_type": "markdown",
   "id": "6d9cb133",
   "metadata": {},
   "source": [
    "## Loading pre-processed data"
   ]
  },
  {
   "cell_type": "markdown",
   "id": "bbac595c",
   "metadata": {},
   "source": [
    "It's a good idea to setup a sensible directory structure like below. Note that all my data lives on '/sc/arion' which is Minerva. \n",
    "\n"
   ]
  },
  {
   "cell_type": "code",
   "execution_count": null,
   "id": "11d44bff",
   "metadata": {},
   "outputs": [],
   "source": [
    "base_dir = '/Users/christinamaher/Desktop' # this is the root directory for most un-archived data and results \n",
    "\n",
    "save_dir = f'{base_dir}/MS012'  # save intermediate results in the 'work' directory\n",
    "    \n",
    "# I have saved most of my raw data in the 'projects directory'\n",
    "behav_dir = f'{base_dir}/MS009/Behavior'\n",
    "neural_dir = f'{base_dir}/MS009/Ephys'\n",
    "anat_dir = f'{base_dir}/MS009/Anat'\n"
   ]
  },
  {
   "cell_type": "markdown",
   "id": "886316a7",
   "metadata": {},
   "source": [
    "Let's load in the re-referenced data, the photodiode data for synchronization, and the electrode dataframe"
   ]
  },
  {
   "cell_type": "code",
   "execution_count": null,
   "id": "916bdb27",
   "metadata": {},
   "outputs": [],
   "source": [
    "wm_ref_data = mne.io.read_raw_fif('/Users/christinamaher/Desktop/MS012/wm_ref_ieeg.fif', preload=True)\n",
    "anode_list = [x.split('-')[0] for x in wm_ref_data.ch_names]"
   ]
  },
  {
   "cell_type": "code",
   "execution_count": null,
   "id": "38cab5ee",
   "metadata": {},
   "outputs": [],
   "source": [
    "len(anode_list)"
   ]
  },
  {
   "cell_type": "code",
   "execution_count": null,
   "id": "954dc10f",
   "metadata": {},
   "outputs": [],
   "source": [
    "wm_ref_data._data.shape"
   ]
  },
  {
   "cell_type": "code",
   "execution_count": null,
   "id": "222f1d93",
   "metadata": {},
   "outputs": [],
   "source": [
    "wm_ref_data = mne.io.read_raw_fif('/Users/christinamaher/Desktop/MS009/wm_ref_ieeg.fif', preload=True)\n",
    "anode_list = [x.split('-')[0] for x in wm_ref_data.ch_names]\n",
    "photodiode = mne.io.read_raw_fif('/Users/christinamaher/Desktop/MS009/photodiode.fif', preload=True)\n",
    "\n",
    "csv_files = glob(f'{anat_dir}/MS009_labels.csv')\n",
    "elec_locs = pd.read_csv(csv_files[0])\n",
    "\n",
    "# Sometimes there's extra columns with no entries: \n",
    "elec_locs = elec_locs[elec_locs.columns.drop(list(elec_locs.filter(regex='Unnamed')))]\n",
    "\n",
    "elec_df = elec_locs[elec_locs.NMMlabel.str.lower().isin(anode_list)]\n",
    "\n",
    "#del wm_ref_data.ch_names[0]\n",
    "#wm_ref_data._data = np.delete(wm_ref_data._data, 0, axis=0)\n",
    "\n",
    "elec_df['NMMlabel'] = wm_ref_data.ch_names\n"
   ]
  },
  {
   "cell_type": "code",
   "execution_count": null,
   "id": "e0c7ebc7",
   "metadata": {},
   "outputs": [],
   "source": [
    "# Utility functions for image memorability ratings. \n",
    "import pandas as pd \n",
    "import numpy as np \n",
    "import os \n",
    "from scipy.stats import norm, zscore, linregress"
   ]
  },
  {
   "cell_type": "code",
   "execution_count": null,
   "id": "cb22d089",
   "metadata": {},
   "outputs": [],
   "source": [
    "# load behavior data and save timestamp(s) of interest as variable \n",
    "behavior = pd.read_csv(r\"/Users/christinamaher/Desktop/MS009/Behavior/MS009_clean.csv\")\n",
    "choice_ts = np.array(behavior['choice_ts'])\n",
    "choice_ts = choice_ts * 1.024\n",
    "\n",
    "# this command sets the backend so that the plots are interactive\n",
    "%matplotlib qt"
   ]
  },
  {
   "cell_type": "code",
   "execution_count": null,
   "id": "0269afc1",
   "metadata": {},
   "outputs": [],
   "source": [
    "# plot photodiode\n",
    "plt.plot(photodiode._data[0])\n",
    "plt.xlabel(\"Time\")\n",
    "plt.ylabel(\"V\")\n",
    "plt.title(\"Photodiode\")\n",
    "\n",
    "zeros = np.array([0.05] * len(choice_ts))\n",
    "x_ts = choice_ts\n",
    "y_ts = zeros.T\n",
    "plt.scatter(x_ts,y_ts,color='red')\n",
    "\n",
    "plt.show()"
   ]
  },
  {
   "cell_type": "code",
   "execution_count": null,
   "id": "ab3cd620",
   "metadata": {},
   "outputs": [],
   "source": [
    "# Compute offset between ts and photodiode and replot to verify alignment \n",
    "button_press = choice_ts[0]\n",
    "#photodiode_deflection = 1.787e+05 #--> MS028\n",
    "#photodiode_deflection = 2.493e+05 --> MS027\n",
    "#photodiode_deflection = 2.16493e+06 --> MS026\n",
    "#photodiode_deflection = 1.51902e+06 --> MS024\n",
    "# photodiode_deflection = 2.1747e+06 --> MS019\n",
    "#photodiode_deflection = 1.15661e06 --> MS017\n",
    "# photodiode_deflection = 7.9698e+05 --> MS014\n",
    "#photodiode_deflection = 7.3975e+05 #--> MS012\n",
    "photodiode_deflection = 7.8683e+05 #--> MS009\n",
    "offset = button_press - photodiode_deflection\n",
    "choice_ts = choice_ts - offset\n",
    "x_ts = choice_ts"
   ]
  },
  {
   "cell_type": "code",
   "execution_count": null,
   "id": "8276019b",
   "metadata": {},
   "outputs": [],
   "source": [
    "plt.close()\n",
    "plt.plot(photodiode._data[0])\n",
    "plt.scatter(x_ts,y_ts,color='green')\n",
    "plt.show()"
   ]
  },
  {
   "cell_type": "code",
   "execution_count": null,
   "id": "e176a004",
   "metadata": {},
   "outputs": [],
   "source": [
    "# set some windows of interest \n",
    "\n",
    "buf = 1.0 # this is the buffer before and after that we use to limit edge effects for TFRs\n",
    "\n",
    "feedback_post = 1.5 # this is the time the feedback is present \n",
    "\n",
    "choice_pre = 1.0 # this is the choice deliberation period\n",
    "choice_post = 1.0"
   ]
  },
  {
   "cell_type": "code",
   "execution_count": null,
   "id": "60288772",
   "metadata": {},
   "outputs": [],
   "source": [
    "# Create a dictionary with your event name (matching your dataframe), and the time-window for the event\n",
    "evs = {'choice_ts': [-1.0, 1.0],\n",
    "       'iti_ts': [0, 0.5]}\n",
    "\n",
    "epochs_all_evs = {f'{x}': np.nan for x in evs}"
   ]
  },
  {
   "cell_type": "code",
   "execution_count": null,
   "id": "1ff16f2c",
   "metadata": {},
   "outputs": [],
   "source": [
    "# Example - make feedback events \n",
    "evs = (choice_ts / 1.024) / 1000 # ts in samples  \n",
    "\n",
    "durs = np.zeros_like(choice_ts).tolist()\n",
    "\n",
    "descriptions = ['choice_ts']*len(choice_ts)\n",
    "\n",
    "# Make mne annotations based on these descriptions\n",
    "annot = mne.Annotations(onset=evs,\n",
    "                          duration=durs,\n",
    "                          description=descriptions)\n",
    "\n",
    "wm_ref_data.set_annotations(annot)\n",
    "\n",
    "events_from_annot, event_dict = mne.events_from_annotations(wm_ref_data)\n",
    "\n",
    "epochs = mne.Epochs(wm_ref_data, \n",
    "                    events_from_annot, \n",
    "                    event_id=event_dict, \n",
    "                    baseline = None, # never baseline within mne functions\n",
    "                    tmin=-(buf + choice_pre), \n",
    "                    tmax=buf + choice_post, \n",
    "                    reject=None, \n",
    "                    reject_by_annotation=False,\n",
    "                    preload=True)\n",
    "\n",
    "new_metadata = pd.DataFrame(data=['complete'] * len(epochs), columns=['bar'],\n",
    "                            index=range(len(epochs)))\n",
    "epochs.metadata = new_metadata\n",
    "\n",
    "epochs_all_evs['choice_ts'] = epochs"
   ]
  },
  {
   "cell_type": "code",
   "execution_count": null,
   "id": "8dd41068",
   "metadata": {},
   "outputs": [],
   "source": [
    "evs = ((choice_ts / 1.024) / 1000) + 1.5 # this is the start of the inter-trial interval. \n",
    "\n",
    "durs = np.zeros_like(choice_ts).tolist()\n",
    "\n",
    "descriptions = ['iti_ts']*len(choice_ts)\n",
    "\n",
    "# Make mne annotations based on these descriptions\n",
    "annot_baseline = mne.Annotations(onset=evs,\n",
    "                          duration=durs,\n",
    "                          description=descriptions)\n",
    "\n",
    "wm_ref_data.set_annotations(annot_baseline)\n",
    "\n",
    "events_from_annot, event_dict = mne.events_from_annotations(wm_ref_data)\n",
    "events_from_annot\n",
    "\n",
    "baseline_epochs = mne.Epochs(wm_ref_data, \n",
    "                    events_from_annot, \n",
    "                    event_id=event_dict, \n",
    "                    tmin=-(buf+0), \n",
    "                    tmax=(buf+0.50), \n",
    "                    reject=None, \n",
    "                    reject_by_annotation=False,\n",
    "                    preload=True)\n",
    "\n",
    "new_metadata = pd.DataFrame(data=['complete'] * len(epochs), columns=['bar'],\n",
    "                            index=range(len(epochs))) # you have to add metadata \n",
    "baseline_epochs.metadata = new_metadata\n",
    "\n",
    "epochs_all_evs['iti_ts'] = baseline_epochs"
   ]
  },
  {
   "cell_type": "code",
   "execution_count": null,
   "id": "47bf0779",
   "metadata": {},
   "outputs": [],
   "source": [
    "choice_metadata = epochs_all_evs['choice_ts'].metadata.copy()\n",
    "choice_metadata['reward'] = behavior['r'].tolist()\n",
    "choice_metadata['ev'] = behavior['ev'].tolist()\n",
    "choice_metadata['relevant_dimension'] = behavior['rd_numeric'].tolist()\n",
    "choice_metadata['acquired'] = behavior['acquired'].tolist()\n",
    "choice_metadata['rpe'] = behavior['rpe'].tolist()\n",
    "choice_metadata['condition'] = behavior['condition'].tolist()\n",
    "#choice_metadata['all_epochs'] = behavior['all_epochs'].tolist() - need to manually add this column to everyone after MS009\n",
    "epochs_all_evs['choice_ts'].metadata = choice_metadata\n",
    "\n",
    "iti_metadata = epochs_all_evs['iti_ts'].metadata.copy()\n",
    "iti_metadata['reward'] = behavior['r'].tolist()\n",
    "iti_metadata['ev'] = behavior['ev'].tolist()\n",
    "iti_metadata['relevant_dimension'] = behavior['rd_numeric'].tolist()\n",
    "iti_metadata['acquired'] = behavior['acquired'].tolist()\n",
    "iti_metadata['rpe'] = behavior['rpe'].tolist()\n",
    "choice_metadata['condition'] = behavior['condition'].tolist()\n",
    "epochs_all_evs['iti_ts'].metadata = iti_metadata"
   ]
  },
  {
   "cell_type": "code",
   "execution_count": null,
   "id": "39a09162",
   "metadata": {},
   "outputs": [],
   "source": [
    "epochs_all_evs['iti_ts'].resample(sfreq=wm_ref_data.info['sfreq']/2)\n",
    "epochs_all_evs['choice_ts'].resample(sfreq=wm_ref_data.info['sfreq']/2)"
   ]
  },
  {
   "cell_type": "code",
   "execution_count": null,
   "id": "ca83e8a3",
   "metadata": {},
   "outputs": [],
   "source": [
    "# manually anotate interictal discharges\n",
    "fig = epochs_all_evs['choice_ts'].plot(n_epochs=1, n_channels= 25)  "
   ]
  },
  {
   "cell_type": "code",
   "execution_count": null,
   "id": "6133ff52",
   "metadata": {},
   "outputs": [],
   "source": [
    "# Need this following line to save the annotations to the epochs object \n",
    "fig.fake_keypress('a')"
   ]
  },
  {
   "cell_type": "code",
   "execution_count": null,
   "id": "9846f159",
   "metadata": {},
   "outputs": [],
   "source": [
    "# Check the epoch annotations \n",
    "epochs_all_evs['choice_ts'].get_annotations_per_epoch\n",
    "epochs_all_evs['choice_ts'].drop_log"
   ]
  },
  {
   "cell_type": "code",
   "execution_count": null,
   "id": "ef5e33b8",
   "metadata": {},
   "outputs": [],
   "source": [
    "# MSO009 DROPPED EPOCHS\n",
    "\n",
    "epochs_all_evs['iti_ts'].drop(np.array([54, 60, 66, 70, 71, 78, 84, 85, 100, 136, 147, 148, 151, 155, 167, 192, 196, 197]), reason='USER', verbose=None)\n",
    "epochs_all_evs['choice_ts'].drop(np.array([54, 60, 66, 70, 71, 78, 84, 85, 100, 136, 147, 148, 151, 155, 167, 192, 196, 197]), reason='USER', verbose=None)"
   ]
  },
  {
   "cell_type": "code",
   "execution_count": null,
   "id": "7da8ec3a",
   "metadata": {},
   "outputs": [],
   "source": [
    "# MS012 DROPPED EPOCHS\n",
    "\n",
    "epochs_all_evs['iti_ts'].drop(np.array([211]), reason='USER', verbose=None)\n",
    "epochs_all_evs['choice_ts'].drop(np.array([211]), reason='USER', verbose=None)"
   ]
  },
  {
   "cell_type": "code",
   "execution_count": null,
   "id": "8da63598",
   "metadata": {},
   "outputs": [],
   "source": [
    "# MS014 DROPPED EPOCHS\n",
    "epochs_all_evs['iti_ts'].drop(np.array([196, 197, 198, 199]), reason='USER', verbose=None)"
   ]
  },
  {
   "cell_type": "code",
   "execution_count": null,
   "id": "a74a1d63",
   "metadata": {},
   "outputs": [],
   "source": [
    "# MS017 DROPPED EPOCHS\n",
    "epochs_all_evs['iti_ts'].drop(np.array([14, 18, 37, 38, 65, 66, 67, 80, 82, 83, 96, 97, 98, 108, 110, 111, 122, 123, 126, 127, 132, 134, 135, 136, 137, 160, 161, 183, 184, 185, 198, 199, 200]), reason='USER', verbose=None)"
   ]
  },
  {
   "cell_type": "code",
   "execution_count": null,
   "id": "b2694d92",
   "metadata": {},
   "outputs": [],
   "source": [
    "# MS019 DROPPED EPOCHS\n",
    "epochs_all_evs['iti_ts'].drop(np.array([7, 11, 27, 38, 47, 48, 52, 61, 73, 88, 97, 124, 125, 130, 168, 169, 174]), reason='USER', verbose=None)\n"
   ]
  },
  {
   "cell_type": "code",
   "execution_count": null,
   "id": "afdf5c75",
   "metadata": {},
   "outputs": [],
   "source": [
    "# MS024 DROPPED EPOCHS\n",
    "\n",
    "epochs_all_evs['iti_ts'].drop(np.array([132, 139, 148, 170, 190, 208, 210, 213]), reason='USER', verbose=None)\n",
    "\n"
   ]
  },
  {
   "cell_type": "code",
   "execution_count": null,
   "id": "2b7263d8",
   "metadata": {},
   "outputs": [],
   "source": [
    "# MS026 DROPPED EPOCHS\n",
    "epochs_all_evs['iti_ts'].drop(np.array([1, 2, 3, 4, 18, 39, 41, 44, 45, 51, 55, 68, 104, 123, 128]), reason='USER', verbose=None)"
   ]
  },
  {
   "cell_type": "code",
   "execution_count": null,
   "id": "7aa2b366",
   "metadata": {},
   "outputs": [],
   "source": [
    "#MS027 DROPPED EPOCHS\n",
    "epochs_all_evs['iti_ts'].drop(np.array([32, 43, 53, 67, 81, 97, 99, 125, 137, 138, 152, 153, 167, 168, 176, 184, 205, 208, 214, 215]), reason='USER', verbose=None)\n"
   ]
  },
  {
   "cell_type": "code",
   "execution_count": null,
   "id": "e3419f9c",
   "metadata": {},
   "outputs": [],
   "source": [
    "#MS028 DROPPED EPOCHS\n",
    "epochs_all_evs['iti_ts'].drop(np.array([]), reason='USER', verbose=None)\n"
   ]
  },
  {
   "cell_type": "code",
   "execution_count": null,
   "id": "c188fda7",
   "metadata": {},
   "outputs": [],
   "source": [
    "# save epochs for plotting/stats\n",
    "#epochs_all_evs.save(f'{save_dir}/epoch.fif', overwrite=True)"
   ]
  },
  {
   "cell_type": "markdown",
   "id": "e284d792",
   "metadata": {},
   "source": [
    "Wavelet TFR"
   ]
  },
  {
   "cell_type": "code",
   "execution_count": null,
   "id": "24b1f044",
   "metadata": {},
   "outputs": [],
   "source": [
    "# Explicitly define a list of analysis events and the baseline event. Should correspond to the dict\n",
    "analysis_evs = ['choice_ts']\n",
    "baseline_ev = 'iti_ts'\n",
    "evs = {'choice_ts': [-1.0, 1.0],\n",
    "       'iti_ts': [0, 0.5]}\n",
    "for i in analysis_evs: \n",
    "    if i not in evs.keys(): \n",
    "        raise ValueError('This analysis event is not in the dictionary')"
   ]
  },
  {
   "cell_type": "code",
   "execution_count": null,
   "id": "0eafdb22",
   "metadata": {},
   "outputs": [],
   "source": [
    "# Set some spectrogram parameters \n",
    "subj_ids = ['MS012']\n",
    "\n",
    "#reqs = np.arange(70,200,5)\n",
    "freqs  = np.logspace(*np.log10([4,200]),num=40)\n",
    "\n",
    "n_cycles = 4\n",
    "sr = epochs_all_evs[baseline_ev].info['sfreq']\n",
    "buf = 1.0\n",
    "buf_ix = int(buf*sr)\n",
    "\n",
    "\n",
    "baseline_power_epochs = {f'{a}': {f'{b}': np.nan for b in evs.keys()} for a in subj_ids}\n",
    "\n",
    "power_epochs = {f'{a}': {f'{b}': np.nan for b in evs.keys()} for a in subj_ids}"
   ]
  },
  {
   "cell_type": "code",
   "execution_count": null,
   "id": "46b12950",
   "metadata": {},
   "outputs": [],
   "source": [
    "# Compute baseline_power\n",
    "for subj_id in subj_ids:\n",
    "    event = 'iti_ts'\n",
    "    epochs = epochs_all_evs[event]\n",
    "        \n",
    "    # Let's make sure we only do this for good channels\n",
    "    good_chans = [x for x in epochs.ch_names if x not in epochs.info['bads']]\n",
    "    picks = [x for x in good_chans]\n",
    "\n",
    "    pow_struct = np.nan * np.ones([epochs._data.shape[0], \n",
    "                           epochs._data.shape[1], len(freqs), \n",
    "                           epochs._data.shape[-1]])\n",
    "\n",
    "    for ch_ix in np.arange(epochs._data.shape[1]): \n",
    "        ch_data = epochs._data[:, ch_ix:ch_ix+1, :]\n",
    "        #bad_epochs  = np.where(epochs.metadata[epochs.ch_names[ch_ix]].notnull())[0]\n",
    "        #good_epochs = np.delete(np.arange(ch_data.shape[0]), bad_epochs)\n",
    "        #ch_data = np.delete(ch_data, bad_epochs, axis=0)\n",
    "        good_epochs = np.arange(0,epochs._data.shape[0],1)\n",
    "        ch_pow = mne.time_frequency.tfr_array_morlet(ch_data, sfreq=epochs.info['sfreq'], \n",
    "                                            freqs=freqs, n_cycles=n_cycles, zero_mean=False, \n",
    "                                            use_fft=True, output='power', n_jobs=1)\n",
    "\n",
    "        pow_struct[good_epochs, ch_ix, :, :] = ch_pow[:, 0, :, :]\n",
    "\n",
    "    temp_pow = mne.time_frequency.EpochsTFR(epochs.info, pow_struct, \n",
    "                                            epochs.times, freqs)\n",
    "    temp_pow.crop(tmin=evs[event][0], tmax=evs[event][1])\n",
    "    \n",
    "    baseline_power_epochs[event] = temp_pow  \n"
   ]
  },
  {
   "cell_type": "code",
   "execution_count": null,
   "id": "23e75a00",
   "metadata": {},
   "outputs": [],
   "source": [
    "for subj_id in subj_ids:\n",
    "    for event in analysis_evs:\n",
    "                \n",
    "        epochs = epochs_all_evs[event]\n",
    "            \n",
    "        # Let's make sure we only do this for good channels\n",
    "        good_chans = [x for x in epochs.ch_names if x not in epochs.info['bads']]\n",
    "        picks = [x for x in good_chans]\n",
    "        \n",
    "        pow_struct = np.nan * np.ones([epochs._data.shape[0], \n",
    "                               epochs._data.shape[1], len(freqs), \n",
    "                               epochs._data.shape[-1]])\n",
    "\n",
    "        for ch_ix in np.arange(epochs._data.shape[1]): \n",
    "            ch_data = epochs._data[:, ch_ix:ch_ix+1, :]\n",
    "            #bad_epochs  = np.where(epochs.metadata[epochs.ch_names[ch_ix]].notnull())[0]\n",
    "            #good_epochs = np.delete(np.arange(ch_data.shape[0]), bad_epochs)\n",
    "            #ch_data = np.delete(ch_data, bad_epochs, axis=0)\n",
    "            good_epochs = np.arange(0,epochs._data.shape[0],1)\n",
    "            ch_pow = mne.time_frequency.tfr_array_morlet(ch_data, sfreq=epochs.info['sfreq'], \n",
    "                                                freqs=freqs, n_cycles=n_cycles, zero_mean=False, \n",
    "                                                use_fft=True, output='power', n_jobs=1)\n",
    "\n",
    "            pow_struct[good_epochs, ch_ix, :, :] = ch_pow[:, 0, :, :]\n",
    "        \n",
    "        temp_pow = mne.time_frequency.EpochsTFR(epochs.info, pow_struct, \n",
    "                                                epochs.times, freqs)\n",
    "        \n",
    "        temp_pow.crop(tmin=evs[event][0], tmax=evs[event][1])\n",
    "        \n",
    "        baseline_corrected_power = lfp_preprocess_utils.zscore_TFR_across_trials(temp_pow.data, \n",
    "                                      baseline_power_epochs['iti_ts'], mode='zscore',baseline_only=False)\n",
    "        \n",
    "        zpow = mne.time_frequency.EpochsTFR(epochs.info, baseline_corrected_power, \n",
    "                                        temp_pow.times, freqs)\n",
    "        \n",
    "        zpow.metadata = epochs_all_evs[event].metadata\n",
    "        \n",
    "        power_epochs[event] = zpow\n",
    "        "
   ]
  },
  {
   "cell_type": "code",
   "execution_count": null,
   "id": "9b6dcfcd",
   "metadata": {},
   "outputs": [],
   "source": [
    "region = 'middle frontal'\n",
    "picks = analysis_utils.select_picks_rois(elec_df, region)\n",
    "picks"
   ]
  },
  {
   "cell_type": "code",
   "execution_count": null,
   "id": "1d7ba4d8",
   "metadata": {},
   "outputs": [],
   "source": [
    "# rois = ['hippocampus', 'amygdala', 'insula', 'cingulate' ,'frontal']\n",
    "#region = 'frontal orbital'\n",
    "region = 'frontal orbital'\n",
    "\n",
    "# band definitions for y-axis\n",
    "#yticks =  [70, 100, 125, 150, 175] \n",
    "yticks =  [4, 30, 60, 120, 180] \n",
    "\n",
    "# task condition to contrast \n",
    "#conditions = [\"(all_epochs == 1)\"]\n",
    "conditions = [\"(acquired == 1)\",\n",
    "             \"(acquired == 0)\"]\n",
    "\n",
    "cond_name = 'acquired'\n",
    "\n",
    "\n",
    "for subj_id in subj_ids:\n",
    "    #save_path = f'{base_dir}/work/qasims01/MemoryBanditData/EMU/Subjects/{subj_id}'\n",
    "    # Get electrode df \n",
    "    # electrode files could either be csv or excel\n",
    "    elec_files = glob(f'{anat_dir}/*.csv') + glob(f'{anat_dir}/*.xlsx')\n",
    "    # There should really only be one \n",
    "    elec_file = elec_files[0]\n",
    "    elec_data = lfp_preprocess_utils.load_elec(elec_file)\n",
    "\n",
    "    anode_list = [x.split('-')[0] for x in epochs_all_evs[event].ch_names]\n",
    "    elec_df = elec_data[elec_data.label.str.lower().isin(anode_list)]\n",
    "    elec_df['label'] = epochs_all_evs[event].ch_names\n",
    "\n",
    "    picks = analysis_utils.select_picks_rois(elec_df, region)\n",
    "    print(picks)\n",
    "    #picks = ['lmoif1-lmoif8'] #- plot just a single electrode \n",
    "    \n",
    "    for event in analysis_evs:\n",
    "        fig, ax = plt.subplots(1, 2, figsize=(10,3))\n",
    "        for ix, cond in enumerate(conditions):\n",
    "            # Set the times for \n",
    "            times = power_epochs[event].times\n",
    "            plot_data = np.nanmean(np.nanmean(power_epochs[event][cond].copy().pick_channels(picks).data, axis=0), axis=0)\n",
    "\n",
    "            im = ax[ix].imshow(plot_data,\n",
    "                      extent=[times[0], times[-1], freqs[0], freqs[-1]], interpolation=None,\n",
    "                      aspect='auto', origin='lower', cmap='RdBu_r', vmin = -np.nanmax(np.abs(plot_data)), vmax = np.nanmax(np.abs(plot_data)))\n",
    "            ax[ix].set(yticks=yticks, xlabel='Time (s)', ylabel='Frequency', title=f'{subj_id}_{region}_{cond}_{event}')\n",
    "            fig.colorbar(im, ax=ax[ix])"
   ]
  },
  {
   "cell_type": "markdown",
   "id": "b46c6563",
   "metadata": {},
   "source": [
    "Save as dataframe for regression analysis and run encoding vs non encoding script"
   ]
  },
  {
   "cell_type": "code",
   "execution_count": null,
   "id": "5dfd9bd2",
   "metadata": {},
   "outputs": [],
   "source": [
    "# subset just the hinted blocks so far\n",
    "event = 'choice_ts'\n",
    "data = power_epochs['choice_ts']['condition == \"hint\"'].to_data_frame()\n",
    "#data.to_csv('/Users/christinamaher/Desktop/MS009/MS009_ephys_data.csv') # subset high gamma and take the average, grouping by time. \n",
    "data"
   ]
  },
  {
   "cell_type": "code",
   "execution_count": null,
   "id": "3b1a59ca",
   "metadata": {},
   "outputs": [],
   "source": [
    "# includes binning for t-tests/regression\n",
    "df2 = data.iloc[::100]\n",
    "df2"
   ]
  },
  {
   "cell_type": "code",
   "execution_count": null,
   "id": "eae8db50",
   "metadata": {},
   "outputs": [],
   "source": [
    "df3 = df2.loc[data['freq'] >= 70]\n",
    "df3"
   ]
  },
  {
   "cell_type": "code",
   "execution_count": null,
   "id": "406437b7",
   "metadata": {},
   "outputs": [],
   "source": [
    "# use this for taking continuous sampling of data - skips binning for permutation cluster testing\n",
    "df3 = data.loc[data['freq'] >= 70]"
   ]
  },
  {
   "cell_type": "code",
   "execution_count": null,
   "id": "f4d0ba8b",
   "metadata": {},
   "outputs": [],
   "source": [
    "df4 = pd.melt(df3, id_vars=[\"time\", \"freq\",\"epoch\",\"condition\"],var_name=\"electrode\", value_name=\"power\")\n",
    "df4"
   ]
  },
  {
   "cell_type": "code",
   "execution_count": null,
   "id": "1c8bbb12",
   "metadata": {},
   "outputs": [],
   "source": [
    "df4 = df4.drop('condition', axis=1)"
   ]
  },
  {
   "cell_type": "code",
   "execution_count": null,
   "id": "c219d220",
   "metadata": {},
   "outputs": [],
   "source": [
    "df4 = df4.drop('freq', axis=1)"
   ]
  },
  {
   "cell_type": "code",
   "execution_count": null,
   "id": "ae035990",
   "metadata": {},
   "outputs": [],
   "source": [
    "df4 = df4.loc[df4['electrode'] != 'research']\n",
    "df4"
   ]
  },
  {
   "cell_type": "code",
   "execution_count": null,
   "id": "fba72e4a",
   "metadata": {},
   "outputs": [],
   "source": [
    "unique_names = df4['electrode'].nunique()\n",
    "print(unique_names)  # output: 4"
   ]
  },
  {
   "cell_type": "code",
   "execution_count": null,
   "id": "e5f8455a",
   "metadata": {},
   "outputs": [],
   "source": [
    "average_by_epoch = df4.groupby(['time','epoch','electrode'])['power'].mean()"
   ]
  },
  {
   "cell_type": "code",
   "execution_count": null,
   "id": "b5ff25e6",
   "metadata": {},
   "outputs": [],
   "source": [
    "# save data\n",
    "#average_by_epoch.to_csv('/Users/christinamaher/Desktop/MS028/average_by_epoch.csv')"
   ]
  },
  {
   "cell_type": "code",
   "execution_count": null,
   "id": "4f6b94e3",
   "metadata": {},
   "outputs": [],
   "source": [
    "# save anatomical info\n",
    "#elec_df.to_csv('/Users/christinamaher/Desktop/MS028/elec_df.csv')"
   ]
  },
  {
   "cell_type": "code",
   "execution_count": null,
   "id": "c09f7c37",
   "metadata": {},
   "outputs": [],
   "source": [
    "# save regressor data \n",
    "#regressors = power_epochs['choice_ts']['condition == \"hint\"'].metadata\n",
    "#regressors.to_csv('/Users/christinamaher/Desktop/MS028/regressors.csv')"
   ]
  },
  {
   "cell_type": "markdown",
   "id": "95b4fdc6",
   "metadata": {},
   "source": [
    "Determine encoding electrodes by region"
   ]
  },
  {
   "cell_type": "code",
   "execution_count": null,
   "id": "c96d99fe",
   "metadata": {},
   "outputs": [],
   "source": [
    "import pandas as pd\n",
    "data = pd.read_csv('/Users/christinamaher/Desktop/MS014/average_by_epoch.csv')\n",
    "elec = pd.read_csv('/Users/christinamaher/Desktop/MS014/elec_df.csv')"
   ]
  },
  {
   "cell_type": "code",
   "execution_count": null,
   "id": "fa987fad",
   "metadata": {},
   "outputs": [],
   "source": [
    "merged_df = pd.merge(data, elec, on='electrode')"
   ]
  },
  {
   "cell_type": "code",
   "execution_count": null,
   "id": "602b9f2d",
   "metadata": {},
   "outputs": [],
   "source": [
    "merged_df"
   ]
  },
  {
   "cell_type": "code",
   "execution_count": null,
   "id": "8e95a2f7",
   "metadata": {},
   "outputs": [],
   "source": [
    "merged_df = merged_df.loc[merged_df['Bins'] != 'wm']"
   ]
  },
  {
   "cell_type": "code",
   "execution_count": null,
   "id": "422693ed",
   "metadata": {},
   "outputs": [],
   "source": [
    "merged_df"
   ]
  },
  {
   "cell_type": "code",
   "execution_count": null,
   "id": "a4b7756b",
   "metadata": {},
   "outputs": [],
   "source": [
    "merged_df.to_csv('/Users/christinamaher/Desktop/MS014/merged_df.csv')"
   ]
  },
  {
   "cell_type": "code",
   "execution_count": null,
   "id": "256976dc",
   "metadata": {},
   "outputs": [],
   "source": [
    "patient_data"
   ]
  },
  {
   "cell_type": "code",
   "execution_count": null,
   "id": "dc05808f",
   "metadata": {},
   "outputs": [],
   "source": [
    "import mne\n",
    "import pandas as pd\n",
    "patient_data = pd.read_csv('/Users/christinamaher/Desktop/MS009/merged_df.csv')\n",
    "encoding_elec = []\n",
    "electrode_name = []\n",
    "patient_name = []"
   ]
  },
  {
   "cell_type": "code",
   "execution_count": 6,
   "id": "754e0b8d",
   "metadata": {},
   "outputs": [
    {
     "data": {
      "text/plain": [
       "array(['racas1-rmolf3', 'racas10-rals11', 'racas2-rmolf3',\n",
       "       'racas3-racas7', 'racas5-rals8', 'racas6-rals8', 'racas9-rals11',\n",
       "       'raglt1-raglt6', 'raglt2-raglt6', 'raglt3-raglt6', 'raglt7-raglt6',\n",
       "       'raglt9-raglt6', 'rals1-raglt5', 'rals10-rals12', 'rals13-rmcms7',\n",
       "       'rals14-rmcms7', 'rals2-rmolf6', 'rals3-rmolf8', 'rals4-rals7',\n",
       "       'rals9-rals7', 'rhplt1-raglt5', 'rhplt2-raglt5', 'rhplt3-raglt4',\n",
       "       'rhplt8-rhplt6', 'rhplt9-rhplt6', 'rmcms4-rmcms2', 'rmcms8-rmcms6',\n",
       "       'rmcms9-rmcms6', 'rmls1-rhplt4', 'rmls10-rmls6', 'rmls11-rmls7',\n",
       "       'rmls2-rmls5', 'rmls3-rpls17', 'rmls4-rpls17', 'rmls8-rmls6',\n",
       "       'rmls9-rmls6', 'rmolf1-rmolf6', 'rmolf10-rmolf9', 'rmolf11-rmolf9',\n",
       "       'rmolf2-rmolf6', 'rmolf4-rmolf6', 'rmolf5-rmolf7', 'rmtpt1-rpls17',\n",
       "       'rmtpt2-rmtpt6', 'rmtpt3-rmtpt5', 'rmtpt4-rmtpt5', 'rmtpt9-rmtpt8',\n",
       "       'rpls11-rhplt4', 'rpls114-rpls113', 'rpls115-rpls113',\n",
       "       'rpls116-rpls113', 'rpls12-raglt5', 'rpls13-raglt5',\n",
       "       'rpls14-rhplt4', 'rpls15-rpls18', 'rpls16-rpls19'], dtype=object)"
      ]
     },
     "execution_count": 6,
     "metadata": {},
     "output_type": "execute_result"
    }
   ],
   "source": [
    "#average_by_epoch.to_csv('/Users/christinamaher/Desktop/MS012/permutation_df.csv')\n",
    "average_by_epoch = pd.read_csv('/Users/christinamaher/Desktop/MS012/permutation_df.csv')\n",
    "electrode_list = average_by_epoch['electrode'].unique()\n",
    "electrode_list"
   ]
  },
  {
   "cell_type": "code",
   "execution_count": 97,
   "id": "d097540f",
   "metadata": {},
   "outputs": [
    {
     "name": "stdout",
     "output_type": "stream",
     "text": [
      "Using a threshold of 1.982597\n",
      "stat_fun(H1): min=-5.522106 max=4.425137\n",
      "Running initial clustering …\n",
      "Found 38 clusters\n"
     ]
    },
    {
     "data": {
      "application/vnd.jupyter.widget-view+json": {
       "model_id": "f3e2082b591b4084a8f3e297b6a890d6",
       "version_major": 2,
       "version_minor": 0
      },
      "text/plain": [
       "  0%|          | Permuting : 0/1023 [00:00<?,       ?it/s]"
      ]
     },
     "metadata": {},
     "output_type": "display_data"
    },
    {
     "data": {
      "text/plain": [
       "array([9.88281250e-01, 1.00000000e+00, 9.76562500e-04, 2.10937500e-01,\n",
       "       1.00000000e+00, 9.58984375e-01, 9.01367188e-01, 9.92187500e-01,\n",
       "       9.57031250e-01, 9.99023438e-01, 6.55273438e-01, 9.99023438e-01,\n",
       "       9.98046875e-01, 9.18945312e-01, 9.70703125e-01, 9.76562500e-04,\n",
       "       9.91210938e-01, 9.99023438e-01, 4.82421875e-01, 1.00000000e+00,\n",
       "       1.00000000e+00, 7.81250000e-03, 9.63867188e-01, 3.33984375e-01,\n",
       "       8.77929688e-01, 9.87304688e-01, 2.02148438e-01, 8.96484375e-01,\n",
       "       9.90234375e-01, 9.98046875e-01, 9.98046875e-01, 6.42578125e-01,\n",
       "       9.98046875e-01, 1.00000000e+00, 2.92968750e-02, 9.97070312e-01,\n",
       "       9.99023438e-01, 1.00000000e+00])"
      ]
     },
     "execution_count": 97,
     "metadata": {},
     "output_type": "execute_result"
    }
   ],
   "source": [
    "### RUN THE PERMUTATION CLUSTER TEST - adapt so this runs as a loop\n",
    "elec_num = np.where(electrode_list == 'rmolf11-rmolf9')[0][0]\n",
    "e = electrode_list[elec_num]\n",
    "electrode_data = average_by_epoch[average_by_epoch[\"electrode\"] == e]\n",
    "data_temp = (electrode_data.pivot(index='epoch', columns='time', values='power')).to_numpy()\n",
    "F_obs, clusters, cluster_p_values, H0 = mne.stats.permutation_cluster_1samp_test(data_temp,tail=0)\n",
    "cluster_p_values"
   ]
  },
  {
   "cell_type": "code",
   "execution_count": 101,
   "id": "e2418813",
   "metadata": {},
   "outputs": [
    {
     "data": {
      "text/plain": [
       "(array([ 2, 15, 21, 34]),)"
      ]
     },
     "execution_count": 101,
     "metadata": {},
     "output_type": "execute_result"
    }
   ],
   "source": [
    "np.where(cluster_p_values<0.05)"
   ]
  },
  {
   "cell_type": "code",
   "execution_count": 105,
   "id": "806a2d86",
   "metadata": {},
   "outputs": [
    {
     "data": {
      "text/plain": [
       "(array([936, 937, 938, 939, 940, 941, 942, 943, 944]),)"
      ]
     },
     "execution_count": 105,
     "metadata": {},
     "output_type": "execute_result"
    }
   ],
   "source": [
    "clusters[34]"
   ]
  },
  {
   "cell_type": "markdown",
   "id": "f7f7fa06",
   "metadata": {},
   "source": [
    "clusters[41]"
   ]
  },
  {
   "cell_type": "code",
   "execution_count": 98,
   "id": "84bc2597",
   "metadata": {},
   "outputs": [
    {
     "data": {
      "text/html": [
       "<div>\n",
       "<style scoped>\n",
       "    .dataframe tbody tr th:only-of-type {\n",
       "        vertical-align: middle;\n",
       "    }\n",
       "\n",
       "    .dataframe tbody tr th {\n",
       "        vertical-align: top;\n",
       "    }\n",
       "\n",
       "    .dataframe thead th {\n",
       "        text-align: right;\n",
       "    }\n",
       "</style>\n",
       "<table border=\"1\" class=\"dataframe\">\n",
       "  <thead>\n",
       "    <tr style=\"text-align: right;\">\n",
       "      <th></th>\n",
       "      <th>time</th>\n",
       "      <th>power</th>\n",
       "    </tr>\n",
       "  </thead>\n",
       "  <tbody>\n",
       "    <tr>\n",
       "      <th>0</th>\n",
       "      <td>-1.000000</td>\n",
       "      <td>0.009762</td>\n",
       "    </tr>\n",
       "    <tr>\n",
       "      <th>1</th>\n",
       "      <td>-0.998047</td>\n",
       "      <td>-0.176185</td>\n",
       "    </tr>\n",
       "    <tr>\n",
       "      <th>2</th>\n",
       "      <td>-0.996094</td>\n",
       "      <td>-0.407853</td>\n",
       "    </tr>\n",
       "    <tr>\n",
       "      <th>3</th>\n",
       "      <td>-0.994141</td>\n",
       "      <td>-0.557753</td>\n",
       "    </tr>\n",
       "    <tr>\n",
       "      <th>4</th>\n",
       "      <td>-0.992188</td>\n",
       "      <td>-0.569187</td>\n",
       "    </tr>\n",
       "    <tr>\n",
       "      <th>...</th>\n",
       "      <td>...</td>\n",
       "      <td>...</td>\n",
       "    </tr>\n",
       "    <tr>\n",
       "      <th>1020</th>\n",
       "      <td>0.992188</td>\n",
       "      <td>-0.385954</td>\n",
       "    </tr>\n",
       "    <tr>\n",
       "      <th>1021</th>\n",
       "      <td>0.994141</td>\n",
       "      <td>-0.354599</td>\n",
       "    </tr>\n",
       "    <tr>\n",
       "      <th>1022</th>\n",
       "      <td>0.996094</td>\n",
       "      <td>-0.268575</td>\n",
       "    </tr>\n",
       "    <tr>\n",
       "      <th>1023</th>\n",
       "      <td>0.998047</td>\n",
       "      <td>-0.178814</td>\n",
       "    </tr>\n",
       "    <tr>\n",
       "      <th>1024</th>\n",
       "      <td>1.000000</td>\n",
       "      <td>-0.103654</td>\n",
       "    </tr>\n",
       "  </tbody>\n",
       "</table>\n",
       "<p>1025 rows × 2 columns</p>\n",
       "</div>"
      ],
      "text/plain": [
       "          time     power\n",
       "0    -1.000000  0.009762\n",
       "1    -0.998047 -0.176185\n",
       "2    -0.996094 -0.407853\n",
       "3    -0.994141 -0.557753\n",
       "4    -0.992188 -0.569187\n",
       "...        ...       ...\n",
       "1020  0.992188 -0.385954\n",
       "1021  0.994141 -0.354599\n",
       "1022  0.996094 -0.268575\n",
       "1023  0.998047 -0.178814\n",
       "1024  1.000000 -0.103654\n",
       "\n",
       "[1025 rows x 2 columns]"
      ]
     },
     "execution_count": 98,
     "metadata": {},
     "output_type": "execute_result"
    }
   ],
   "source": [
    "mean_values = electrode_data.groupby('time')['power'].mean()\n",
    "mean_values = mean_values.to_frame()\n",
    "mean_values.reset_index(level=0, inplace=True)\n",
    "mean_values"
   ]
  },
  {
   "cell_type": "code",
   "execution_count": 100,
   "id": "7bf93067",
   "metadata": {},
   "outputs": [
    {
     "data": {
      "text/plain": [
       "[<matplotlib.lines.Line2D at 0x7fe7906772b0>]"
      ]
     },
     "execution_count": 100,
     "metadata": {},
     "output_type": "execute_result"
    },
    {
     "data": {
      "image/png": "[encoded data removed]",
      "text/plain": [
       "<Figure size 640x480 with 1 Axes>"
      ]
     },
     "metadata": {},
     "output_type": "display_data"
    }
   ],
   "source": [
    "plt.plot(mean_values['time'],mean_values['power'])\n"
   ]
  },
  {
   "cell_type": "code",
   "execution_count": 112,
   "id": "e7db6af7",
   "metadata": {},
   "outputs": [
    {
     "data": {
      "text/plain": [
       "array([0, 0, 0, 0, 0, 0, 0, 0, 0, 0, 0, 0, 0, 0, 0, 0, 0, 0, 0, 0, 0, 0,\n",
       "       0, 0, 0, 0, 0, 0, 0, 0, 0, 0, 0, 0, 0, 0, 0, 0, 0, 0, 0, 0, 0, 0,\n",
       "       0, 0, 0, 0, 0, 0, 0, 0, 0, 0, 0, 0, 0, 0, 0, 0, 0, 0, 0, 0])"
      ]
     },
     "execution_count": 112,
     "metadata": {},
     "output_type": "execute_result"
    }
   ],
   "source": [
    "# Define the x-values and the y-limits for shading\n",
    "x_shade = indices\n",
    "y_lower = np.zeros_like(x_shade)\n",
    "y_upper = mean_values['power'][indices]\n",
    "y_lower\n",
    "#y_upper"
   ]
  },
  {
   "cell_type": "code",
   "execution_count": 114,
   "id": "cd5bf89e",
   "metadata": {},
   "outputs": [
    {
     "data": {
      "text/plain": [
       "<matplotlib.collections.PathCollection at 0x7fe78090ef10>"
      ]
     },
     "execution_count": 114,
     "metadata": {},
     "output_type": "execute_result"
    },
    {
     "data": {
      "image/png": "[encoded data removed]",
      "text/plain": [
       "<Figure size 640x480 with 1 Axes>"
      ]
     },
     "metadata": {},
     "output_type": "display_data"
    }
   ],
   "source": [
    "plt.plot(mean_values['time'],mean_values['power'])\n",
    "\n",
    "indices = [557, 558, 559, 560, 561, 562, 563, 564, 565, 566, 567, 568, 569,\n",
    "        570, 571, 572, 573, 574, 575, 576, 577, 578, 579, 580, 581,453, 454, 455, 456, 457, 458, 459, 460, 461, 462, 463, 464, 465,\n",
    "        466, 467, 468, 469, 470,683, 684, 685, 686, 687, 688, 689, 690, 691, 692, 693, 694,936, 937, 938, 939, 940, 941, 942, 943, 944]\n",
    "plt.title('Average power in 1 OFC electrode (N=1)')\n",
    "plt.scatter(mean_values['time'][indices],mean_values['power'][indices], color=\"red\")"
   ]
  },
  {
   "cell_type": "code",
   "execution_count": null,
   "id": "c0a4958c",
   "metadata": {},
   "outputs": [],
   "source": [
    "# average across epochs for plottings\n",
    "avg_power = electrode_data.groupby('time').agg({'power': 'mean'})\n",
    "avg_power = avg_power['power']"
   ]
  },
  {
   "cell_type": "code",
   "execution_count": null,
   "id": "c15fe6ee",
   "metadata": {},
   "outputs": [],
   "source": [
    "# RUN PERMUTATION TEST AS A LOOP\n",
    "#import mne\n",
    "#patient_data = pd.read_csv('/Users/christinamaher/Desktop/MS028/merged_df.csv')\n",
    "#encoding_elec = []\n",
    "#electrode_name = []\n",
    "#patient_name = []\n",
    "\n",
    "#electrode_list = patient_data.electrode.unique()\n",
    "for e in electrode_list:\n",
    "    electrode_data = patient_data[patient_data[\"electrode\"] == e]\n",
    "    data_temp = (electrode_data.pivot(index='epoch', columns='time', values='power')).to_numpy()\n",
    "    F_obs, clusters, cluster_p_values, H0 = mne.stats.permutation_cluster_test(data_temp, out_type='mask', tail=0)\n",
    "    if len(clusters) > 0:\n",
    "        encoding = 1\n",
    "    else:\n",
    "        encoding = 0\n",
    "        \n",
    "    encoding_elec.append(encoding) # save data so that encoding versus non-encoding electrodes can be subset\n",
    "    electrode_name.append(e)"
   ]
  },
  {
   "cell_type": "code",
   "execution_count": null,
   "id": "e8b37c4b",
   "metadata": {},
   "outputs": [],
   "source": [
    "encoding_results = pd.DataFrame({'encoding': encoding_elec, 'elec': electrode_name})"
   ]
  },
  {
   "cell_type": "code",
   "execution_count": null,
   "id": "7e14f09d",
   "metadata": {},
   "outputs": [],
   "source": [
    "encoding_results.to_csv('/Users/christinamaher/Desktop/MS028/encoding_results.csv')"
   ]
  },
  {
   "cell_type": "code",
   "execution_count": null,
   "id": "904b2a74",
   "metadata": {},
   "outputs": [],
   "source": [
    "import pandas as pd"
   ]
  },
  {
   "cell_type": "code",
   "execution_count": null,
   "id": "8217677f",
   "metadata": {},
   "outputs": [],
   "source": [
    "encoding = pd.read_csv('/Users/christinamaher/Desktop/MS012/encoding_results.csv')\n",
    "merged = pd.read_csv('/Users/christinamaher/Desktop/MS012/merged_df.csv')\n",
    "repeat_number = len(merged[merged[\"electrode\"] == merged[\"electrode\"][0]])\n",
    "\n",
    "n_repeats = repeat_number\n",
    "x = encoding['encoding'].repeat(n_repeats).reset_index(drop=True)\n",
    "\n",
    "merged['encoding'] = x\n",
    "merged.to_csv('/Users/christinamaher/Desktop/MS012/merged_encoding.csv')"
   ]
  },
  {
   "cell_type": "code",
   "execution_count": null,
   "id": "9feb1b6a",
   "metadata": {},
   "outputs": [],
   "source": [
    "data = pd.read_csv('/Users/christinamaher/Desktop/MS028/merged_encoding.csv')\n",
    "data"
   ]
  },
  {
   "cell_type": "code",
   "execution_count": null,
   "id": "a179e844",
   "metadata": {},
   "outputs": [],
   "source": [
    "ofc_df = data.loc[(data['Bins'] == 'OFC') & (data['encoding'] == 1)]\n",
    "pfc_df = data.loc[(data['Bins'] == 'lPFC') & (data['encoding'] == 1)]"
   ]
  },
  {
   "cell_type": "code",
   "execution_count": null,
   "id": "e9cf6088",
   "metadata": {},
   "outputs": [],
   "source": [
    "regressors = pd.read_csv('/Users/christinamaher/Desktop/MS012/regressors.csv')\n",
    "regressors\n",
    "regressors = regressors.drop('Unnamed: 0', axis=1)"
   ]
  },
  {
   "cell_type": "code",
   "execution_count": null,
   "id": "acf816d0",
   "metadata": {},
   "outputs": [],
   "source": [
    "repeated_df_ofc = pd.concat([regressors]*int(ofc_df.shape[0]/regressors.shape[0]),ignore_index=True)\n",
    "repeated_df_pfc = pd.concat([regressors]*int(pfc_df.shape[0]/regressors.shape[0]),ignore_index=True)"
   ]
  },
  {
   "cell_type": "code",
   "execution_count": null,
   "id": "06818f01",
   "metadata": {},
   "outputs": [],
   "source": [
    "repeated_df_ofc"
   ]
  },
  {
   "cell_type": "code",
   "execution_count": null,
   "id": "f406357d",
   "metadata": {},
   "outputs": [],
   "source": [
    "ofc_df.to_csv('/Users/christinamaher/Desktop/MS012/ofc_df_beta.csv')\n",
    "pfc_df.to_csv('/Users/christinamaher/Desktop/MS012/pfc_df_beta.csv')\n",
    "repeated_df_ofc.to_csv('/Users/christinamaher/Desktop/MS012/repeated_df_ofc_beta.csv')\n",
    "repeated_df_pfc.to_csv('/Users/christinamaher/Desktop/MS012/repeated_df_pfc_beta.csv')"
   ]
  },
  {
   "cell_type": "code",
   "execution_count": null,
   "id": "62e7a5df",
   "metadata": {},
   "outputs": [],
   "source": []
  }
 ],
 "metadata": {
  "kernelspec": {
   "display_name": "Python 3 (ipykernel)",
   "language": "python",
   "name": "python3"
  },
  "language_info": {
   "codemirror_mode": {
    "name": "ipython",
    "version": 3
   },
   "file_extension": ".py",
   "mimetype": "text/x-python",
   "name": "python",
   "nbconvert_exporter": "python",
   "pygments_lexer": "ipython3",
   "version": "3.8.8"
  },
  "vscode": {
   "interpreter": {
    "hash": "aee8b7b246df8f9039afb4144a1f6fd8d2ca17a180786b69acc140d282b71a49"
   }
  }
 },
 "nbformat": 4,
 "nbformat_minor": 5
}
