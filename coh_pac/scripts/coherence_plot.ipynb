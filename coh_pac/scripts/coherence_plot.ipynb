{
 "cells": [
  {
   "cell_type": "code",
   "execution_count": 1,
   "metadata": {},
   "outputs": [
    {
     "name": "stderr",
     "output_type": "stream",
     "text": [
      "OMP: Info #276: omp_set_nested routine deprecated, please use omp_set_max_active_levels instead.\n"
     ]
    }
   ],
   "source": [
    "import numpy as np\n",
    "import mne\n",
    "from glob import glob\n",
    "import matplotlib.pyplot as plt\n",
    "from matplotlib.backends.backend_pdf import PdfPages\n",
    "import seaborn as sns\n",
    "from scipy.stats import zscore, linregress, ttest_ind, ttest_rel, ttest_1samp\n",
    "import pandas as pd\n",
    "from mne.preprocessing.bads import _find_outliers\n",
    "import os \n",
    "import joblib\n",
    "import emd\n",
    "from mne_connectivity import spectral_connectivity_epochs,phase_slope_index,seed_target_indices,check_indices"
   ]
  },
  {
   "cell_type": "code",
   "execution_count": 2,
   "metadata": {},
   "outputs": [],
   "source": [
    "%matplotlib inline\n",
    "%reload_ext autoreload\n",
    "%autoreload 2"
   ]
  },
  {
   "cell_type": "code",
   "execution_count": 3,
   "metadata": {},
   "outputs": [],
   "source": [
    "import sys\n",
    "sys.path.append('/Users/alexandrafink/Documents/GitHub/LFPAnalysis')"
   ]
  },
  {
   "cell_type": "code",
   "execution_count": 4,
   "metadata": {},
   "outputs": [],
   "source": [
    "from LFPAnalysis import lfp_preprocess_utils, sync_utils, analysis_utils, nlx_utils"
   ]
  },
  {
   "cell_type": "code",
   "execution_count": 7,
   "metadata": {},
   "outputs": [],
   "source": [
    "#one subject \n",
    "anat_path = '/Users/alexandrafink/Documents/GraduateSchool/SaezLab/SWB/anat_recons/recon_labels/MS017_labels.csv'\n",
    "data_path = '/Users/alexandrafink/Documents/GraduateSchool/SaezLab/SWB/ephys_analysis/data/MS017/'\n",
    "\n",
    "subj_id = 'MS017'\n",
    "freqs = np.logspace(*np.log10([4, 120]), num=20)\n"
   ]
  },
  {
   "cell_type": "code",
   "execution_count": 71,
   "metadata": {},
   "outputs": [
    {
     "name": "stderr",
     "output_type": "stream",
     "text": [
      "/var/folders/xk/q5rxx0ld0hnc9gjlq1dhwqhw0000gn/T/ipykernel_3047/816277711.py:1: RuntimeWarning: This filename (/Users/alexandrafink/Documents/GraduateSchool/SaezLab/SWB/ephys_analysis/data/MS017/epoch_DecisionOnset.fif) does not conform to MNE naming conventions. All epochs files should end with -epo.fif, -epo.fif.gz, _epo.fif or _epo.fif.gz\n",
      "  epochs_data = mne.read_epochs(f'{data_path}epoch_DecisionOnset.fif')\n",
      "/var/folders/xk/q5rxx0ld0hnc9gjlq1dhwqhw0000gn/T/ipykernel_3047/816277711.py:10: SettingWithCopyWarning: \n",
      "A value is trying to be set on a copy of a slice from a DataFrame.\n",
      "Try using .loc[row_indexer,col_indexer] = value instead\n",
      "\n",
      "See the caveats in the documentation: https://pandas.pydata.org/pandas-docs/stable/user_guide/indexing.html#returning-a-view-versus-a-copy\n",
      "  elec_df['label'] = epochs_data.ch_names\n"
     ]
    }
   ],
   "source": [
    "epochs_data = mne.read_epochs(f'{data_path}epoch_DecisionOnset.fif')\n",
    "#epochs_data_decision = mne.read_epochs(f'{data_path}epoch_DecisionOnset.fif')\n",
    "\n",
    "\n",
    "elec_data = lfp_preprocess_utils.load_elec(anat_path)\n",
    "\n",
    "\n",
    "anode_list = [x.split('-')[0] for x in epochs_data.ch_names]\n",
    "elec_df = elec_data[elec_data.label.str.lower().isin(anode_list)]\n",
    "elec_df['label'] = epochs_data.ch_names\n",
    "\n"
   ]
  },
  {
   "cell_type": "code",
   "execution_count": 9,
   "metadata": {},
   "outputs": [
    {
     "data": {
      "text/plain": [
       "['lacas1-lalps4',\n",
       " 'lacas10-lalps9',\n",
       " 'lacas2-lalps4',\n",
       " 'lacas3-lalps4',\n",
       " 'lacas4-lmolf1',\n",
       " 'lacas5-lmolf5',\n",
       " 'lacas6-lalps4',\n",
       " 'lacas7-lmcms6',\n",
       " 'lacas8-lalps7',\n",
       " 'laglt1-ltplt4',\n",
       " 'laglt2-lhplt5',\n",
       " 'laglt3-lhplt5',\n",
       " 'laglt4-lhplt5',\n",
       " 'laglt5-lhplt5',\n",
       " 'laglt6-lhplt6',\n",
       " 'laglt7-lhplt7',\n",
       " 'laglt8-lhplt7',\n",
       " 'laglt9-lhplt7',\n",
       " 'lalps1-lalps6',\n",
       " 'lalps11-lalps9',\n",
       " 'lalps12-lalps9',\n",
       " 'lalps13-lmcms6',\n",
       " 'lalps2-lalps6',\n",
       " 'lalps3-lalps6',\n",
       " 'lhplt1-lhplt5',\n",
       " 'lhplt10-lllt4',\n",
       " 'lhplt2-lhplt5',\n",
       " 'lhplt3-lhplt5',\n",
       " 'lhplt4-lhplt5',\n",
       " 'lhplt8-lhplt7',\n",
       " 'lhplt9-lllt5',\n",
       " 'lllt1-lhplt5',\n",
       " 'lllt2-lllt4',\n",
       " 'lllt3-lhplt6',\n",
       " 'lllt6-lhplt7',\n",
       " 'lllt7-lhplt7',\n",
       " 'lmcms1-lalps8',\n",
       " 'lmcms2-lalps8',\n",
       " 'lmcms3-lalps9',\n",
       " 'lmcms4-lalps9',\n",
       " 'lmcms7-lalps10',\n",
       " 'lmcms8-lalps10',\n",
       " 'lmlbr1-lalps6',\n",
       " 'lmlbr2-lllt4',\n",
       " 'lmlbr3-lhplt7',\n",
       " 'lmlbr4-lhplt7',\n",
       " 'lmolf2-lalps4',\n",
       " 'lmolf4-lalps4',\n",
       " 'lmolf6-lalps4',\n",
       " 'lmolf7-lalps4',\n",
       " 'lmolf8-lalps4',\n",
       " 'lmolf9-lalps5',\n",
       " 'lpcwr10-lplsp6',\n",
       " 'lpcwr11-lplsp6',\n",
       " 'lpcwr12-lplsp7',\n",
       " 'lpcwr7-lplsp3',\n",
       " 'lpcwr8-lplsp4',\n",
       " 'lpcwr9-lplsp5',\n",
       " 'lplsp1-lplsp4',\n",
       " 'lplsp10-lplsp8',\n",
       " 'lplsp2-lplsp3',\n",
       " 'lplsp9-lplsp8',\n",
       " 'ltplt1-ltplt4',\n",
       " 'ltplt2-ltplt4',\n",
       " 'ltplt3-ltplt4',\n",
       " 'ltplt5-ltplt4',\n",
       " 'ltplt6-ltplt4',\n",
       " 'ltplt7-ltplt4']"
      ]
     },
     "execution_count": 9,
     "metadata": {},
     "output_type": "execute_result"
    }
   ],
   "source": [
    "epochs_data.ch_names"
   ]
  },
  {
   "cell_type": "code",
   "execution_count": 516,
   "metadata": {},
   "outputs": [
    {
     "data": {
      "text/html": [
       "<div>\n",
       "<style scoped>\n",
       "    .dataframe tbody tr th:only-of-type {\n",
       "        vertical-align: middle;\n",
       "    }\n",
       "\n",
       "    .dataframe tbody tr th {\n",
       "        vertical-align: top;\n",
       "    }\n",
       "\n",
       "    .dataframe thead th {\n",
       "        text-align: right;\n",
       "    }\n",
       "</style>\n",
       "<table border=\"1\" class=\"dataframe\">\n",
       "  <thead>\n",
       "    <tr style=\"text-align: right;\">\n",
       "      <th></th>\n",
       "      <th>label</th>\n",
       "      <th>BN246label</th>\n",
       "      <th>x</th>\n",
       "      <th>y</th>\n",
       "      <th>z</th>\n",
       "      <th>mni_x</th>\n",
       "      <th>mni_y</th>\n",
       "      <th>mni_z</th>\n",
       "      <th>gm</th>\n",
       "      <th>NMM</th>\n",
       "      <th>Anat</th>\n",
       "      <th>AnatMacro</th>\n",
       "      <th>BN246</th>\n",
       "      <th>YBA_1</th>\n",
       "      <th>ManualExamination</th>\n",
       "      <th>Notes</th>\n",
       "    </tr>\n",
       "  </thead>\n",
       "  <tbody>\n",
       "    <tr>\n",
       "      <th>0</th>\n",
       "      <td>lacas1-lmoif6</td>\n",
       "      <td>A32sg_L</td>\n",
       "      <td>-6.784557</td>\n",
       "      <td>49.555827</td>\n",
       "      <td>0.149337</td>\n",
       "      <td>-6.382462</td>\n",
       "      <td>37.158688</td>\n",
       "      <td>-3.130044</td>\n",
       "      <td>Gray</td>\n",
       "      <td>Left ACgG anterior cingulate gyrus</td>\n",
       "      <td>Unknown</td>\n",
       "      <td>L ACC</td>\n",
       "      <td>L CG</td>\n",
       "      <td>Left cingulate gyrus D</td>\n",
       "      <td>NaN</td>\n",
       "      <td>NaN</td>\n",
       "    </tr>\n",
       "    <tr>\n",
       "      <th>1</th>\n",
       "      <td>lacas10-laims14</td>\n",
       "      <td>A9l_L</td>\n",
       "      <td>-8.380923</td>\n",
       "      <td>61.155821</td>\n",
       "      <td>43.676991</td>\n",
       "      <td>-8.220073</td>\n",
       "      <td>48.757099</td>\n",
       "      <td>44.868611</td>\n",
       "      <td>Gray</td>\n",
       "      <td>Left SFG superior frontal gyrus</td>\n",
       "      <td>Unknown</td>\n",
       "      <td>L Superior Medial Gyrus</td>\n",
       "      <td>L SFG</td>\n",
       "      <td>Left superior frontal gyrus 2 C</td>\n",
       "      <td>NaN</td>\n",
       "      <td>NaN</td>\n",
       "    </tr>\n",
       "    <tr>\n",
       "      <th>4</th>\n",
       "      <td>lacas2-lmoif3</td>\n",
       "      <td>A32sg_L</td>\n",
       "      <td>-6.784557</td>\n",
       "      <td>50.755827</td>\n",
       "      <td>4.941372</td>\n",
       "      <td>-6.368174</td>\n",
       "      <td>38.606223</td>\n",
       "      <td>2.270621</td>\n",
       "      <td>Gray</td>\n",
       "      <td>Left ACgG anterior cingulate gyrus</td>\n",
       "      <td>Unknown</td>\n",
       "      <td>L ACC</td>\n",
       "      <td>L CG</td>\n",
       "      <td>Left cingulate gyrus E</td>\n",
       "      <td>NaN</td>\n",
       "      <td>NaN</td>\n",
       "    </tr>\n",
       "    <tr>\n",
       "      <th>5</th>\n",
       "      <td>lacas3-lmoif7</td>\n",
       "      <td>A32sg_L</td>\n",
       "      <td>-6.784557</td>\n",
       "      <td>51.955826</td>\n",
       "      <td>9.733407</td>\n",
       "      <td>-6.390079</td>\n",
       "      <td>39.941566</td>\n",
       "      <td>7.640265</td>\n",
       "      <td>Gray</td>\n",
       "      <td>Left ACgG anterior cingulate gyrus</td>\n",
       "      <td>Unknown</td>\n",
       "      <td>L ACC</td>\n",
       "      <td>L CG</td>\n",
       "      <td>Left cingulate gyrus F</td>\n",
       "      <td>NaN</td>\n",
       "      <td>NaN</td>\n",
       "    </tr>\n",
       "    <tr>\n",
       "      <th>6</th>\n",
       "      <td>lacas4-lmoif5</td>\n",
       "      <td>A32p_L</td>\n",
       "      <td>-7.183649</td>\n",
       "      <td>53.555825</td>\n",
       "      <td>14.525443</td>\n",
       "      <td>-6.914519</td>\n",
       "      <td>41.546899</td>\n",
       "      <td>12.993427</td>\n",
       "      <td>Gray</td>\n",
       "      <td>Left ACgG anterior cingulate gyrus</td>\n",
       "      <td>Unknown</td>\n",
       "      <td>L ACC</td>\n",
       "      <td>L CG</td>\n",
       "      <td>Left cingulate gyrus F</td>\n",
       "      <td>NaN</td>\n",
       "      <td>NaN</td>\n",
       "    </tr>\n",
       "    <tr>\n",
       "      <th>...</th>\n",
       "      <td>...</td>\n",
       "      <td>...</td>\n",
       "      <td>...</td>\n",
       "      <td>...</td>\n",
       "      <td>...</td>\n",
       "      <td>...</td>\n",
       "      <td>...</td>\n",
       "      <td>...</td>\n",
       "      <td>...</td>\n",
       "      <td>...</td>\n",
       "      <td>...</td>\n",
       "      <td>...</td>\n",
       "      <td>...</td>\n",
       "      <td>...</td>\n",
       "      <td>...</td>\n",
       "      <td>...</td>\n",
       "    </tr>\n",
       "    <tr>\n",
       "      <th>151</th>\n",
       "      <td>rmoif3-raims7</td>\n",
       "      <td>A11l_R</td>\n",
       "      <td>25.940934</td>\n",
       "      <td>43.955830</td>\n",
       "      <td>-14.226769</td>\n",
       "      <td>26.587567</td>\n",
       "      <td>30.321151</td>\n",
       "      <td>-19.158925</td>\n",
       "      <td>Gray</td>\n",
       "      <td>Right POrG posterior orbital gyrus</td>\n",
       "      <td>Area Fo3</td>\n",
       "      <td>R IFG (p Orbitalis)</td>\n",
       "      <td>R OrG</td>\n",
       "      <td>Right frontal orbital 4 D</td>\n",
       "      <td>NaN</td>\n",
       "      <td>NaN</td>\n",
       "    </tr>\n",
       "    <tr>\n",
       "      <th>154</th>\n",
       "      <td>rmoif6-raims7</td>\n",
       "      <td>A12/47l_R</td>\n",
       "      <td>37.913675</td>\n",
       "      <td>41.555831</td>\n",
       "      <td>-6.240044</td>\n",
       "      <td>38.716568</td>\n",
       "      <td>28.139395</td>\n",
       "      <td>-11.063832</td>\n",
       "      <td>Gray</td>\n",
       "      <td>Right Cerebral White Matter</td>\n",
       "      <td>Unknown</td>\n",
       "      <td>R IFG (p Orbitalis)</td>\n",
       "      <td>R OrG</td>\n",
       "      <td>Right frontal orbital 4 D</td>\n",
       "      <td>NaN</td>\n",
       "      <td>NaN</td>\n",
       "    </tr>\n",
       "    <tr>\n",
       "      <th>155</th>\n",
       "      <td>rmoif7-raims7</td>\n",
       "      <td>A12/47l_R</td>\n",
       "      <td>41.904589</td>\n",
       "      <td>40.755832</td>\n",
       "      <td>-3.844026</td>\n",
       "      <td>42.794042</td>\n",
       "      <td>27.279509</td>\n",
       "      <td>-8.584441</td>\n",
       "      <td>Gray</td>\n",
       "      <td>Right OrIFG orbital part of the inferior front...</td>\n",
       "      <td>Unknown</td>\n",
       "      <td>R IFG (p Orbitalis)</td>\n",
       "      <td>R OrG</td>\n",
       "      <td>Right pars orbitalis C</td>\n",
       "      <td>NaN</td>\n",
       "      <td>NaN</td>\n",
       "    </tr>\n",
       "    <tr>\n",
       "      <th>156</th>\n",
       "      <td>rmoif8-raims7</td>\n",
       "      <td>A12/47l_R</td>\n",
       "      <td>46.294594</td>\n",
       "      <td>39.555832</td>\n",
       "      <td>-1.048672</td>\n",
       "      <td>47.308597</td>\n",
       "      <td>25.926043</td>\n",
       "      <td>-5.816665</td>\n",
       "      <td>Gray</td>\n",
       "      <td>Right OrIFG orbital part of the inferior front...</td>\n",
       "      <td>Unknown</td>\n",
       "      <td>R IFG (p Orbitalis)</td>\n",
       "      <td>R OrG</td>\n",
       "      <td>Right middle pars triangularis B</td>\n",
       "      <td>NaN</td>\n",
       "      <td>NaN</td>\n",
       "    </tr>\n",
       "    <tr>\n",
       "      <th>157</th>\n",
       "      <td>rmoif9-raims7</td>\n",
       "      <td>A45r_R</td>\n",
       "      <td>50.285508</td>\n",
       "      <td>38.755833</td>\n",
       "      <td>1.746682</td>\n",
       "      <td>51.450368</td>\n",
       "      <td>25.170889</td>\n",
       "      <td>-3.096492</td>\n",
       "      <td>Gray</td>\n",
       "      <td>Right TrIFG triangular part of the inferior fr...</td>\n",
       "      <td>Area 45</td>\n",
       "      <td>R IFG (p Orbitalis)</td>\n",
       "      <td>R IFG</td>\n",
       "      <td>Right middle pars triangularis B</td>\n",
       "      <td>NaN</td>\n",
       "      <td>NaN</td>\n",
       "    </tr>\n",
       "  </tbody>\n",
       "</table>\n",
       "<p>100 rows × 16 columns</p>\n",
       "</div>"
      ],
      "text/plain": [
       "               label BN246label          x          y          z      mni_x  \\\n",
       "0      lacas1-lmoif6    A32sg_L  -6.784557  49.555827   0.149337  -6.382462   \n",
       "1    lacas10-laims14      A9l_L  -8.380923  61.155821  43.676991  -8.220073   \n",
       "4      lacas2-lmoif3    A32sg_L  -6.784557  50.755827   4.941372  -6.368174   \n",
       "5      lacas3-lmoif7    A32sg_L  -6.784557  51.955826   9.733407  -6.390079   \n",
       "6      lacas4-lmoif5     A32p_L  -7.183649  53.555825  14.525443  -6.914519   \n",
       "..               ...        ...        ...        ...        ...        ...   \n",
       "151    rmoif3-raims7     A11l_R  25.940934  43.955830 -14.226769  26.587567   \n",
       "154    rmoif6-raims7  A12/47l_R  37.913675  41.555831  -6.240044  38.716568   \n",
       "155    rmoif7-raims7  A12/47l_R  41.904589  40.755832  -3.844026  42.794042   \n",
       "156    rmoif8-raims7  A12/47l_R  46.294594  39.555832  -1.048672  47.308597   \n",
       "157    rmoif9-raims7     A45r_R  50.285508  38.755833   1.746682  51.450368   \n",
       "\n",
       "         mni_y      mni_z    gm  \\\n",
       "0    37.158688  -3.130044  Gray   \n",
       "1    48.757099  44.868611  Gray   \n",
       "4    38.606223   2.270621  Gray   \n",
       "5    39.941566   7.640265  Gray   \n",
       "6    41.546899  12.993427  Gray   \n",
       "..         ...        ...   ...   \n",
       "151  30.321151 -19.158925  Gray   \n",
       "154  28.139395 -11.063832  Gray   \n",
       "155  27.279509  -8.584441  Gray   \n",
       "156  25.926043  -5.816665  Gray   \n",
       "157  25.170889  -3.096492  Gray   \n",
       "\n",
       "                                                   NMM      Anat  \\\n",
       "0                   Left ACgG anterior cingulate gyrus   Unknown   \n",
       "1                      Left SFG superior frontal gyrus   Unknown   \n",
       "4                   Left ACgG anterior cingulate gyrus   Unknown   \n",
       "5                   Left ACgG anterior cingulate gyrus   Unknown   \n",
       "6                   Left ACgG anterior cingulate gyrus   Unknown   \n",
       "..                                                 ...       ...   \n",
       "151                 Right POrG posterior orbital gyrus  Area Fo3   \n",
       "154                        Right Cerebral White Matter   Unknown   \n",
       "155  Right OrIFG orbital part of the inferior front...   Unknown   \n",
       "156  Right OrIFG orbital part of the inferior front...   Unknown   \n",
       "157  Right TrIFG triangular part of the inferior fr...   Area 45   \n",
       "\n",
       "                   AnatMacro  BN246                             YBA_1  \\\n",
       "0                      L ACC   L CG            Left cingulate gyrus D   \n",
       "1    L Superior Medial Gyrus  L SFG   Left superior frontal gyrus 2 C   \n",
       "4                      L ACC   L CG            Left cingulate gyrus E   \n",
       "5                      L ACC   L CG            Left cingulate gyrus F   \n",
       "6                      L ACC   L CG            Left cingulate gyrus F   \n",
       "..                       ...    ...                               ...   \n",
       "151      R IFG (p Orbitalis)  R OrG         Right frontal orbital 4 D   \n",
       "154      R IFG (p Orbitalis)  R OrG         Right frontal orbital 4 D   \n",
       "155      R IFG (p Orbitalis)  R OrG            Right pars orbitalis C   \n",
       "156      R IFG (p Orbitalis)  R OrG  Right middle pars triangularis B   \n",
       "157      R IFG (p Orbitalis)  R IFG  Right middle pars triangularis B   \n",
       "\n",
       "    ManualExamination Notes  \n",
       "0                 NaN   NaN  \n",
       "1                 NaN   NaN  \n",
       "4                 NaN   NaN  \n",
       "5                 NaN   NaN  \n",
       "6                 NaN   NaN  \n",
       "..                ...   ...  \n",
       "151               NaN   NaN  \n",
       "154               NaN   NaN  \n",
       "155               NaN   NaN  \n",
       "156               NaN   NaN  \n",
       "157               NaN   NaN  \n",
       "\n",
       "[100 rows x 16 columns]"
      ]
     },
     "execution_count": 516,
     "metadata": {},
     "output_type": "execute_result"
    }
   ],
   "source": [
    "elec_df"
   ]
  },
  {
   "cell_type": "code",
   "execution_count": 72,
   "metadata": {},
   "outputs": [],
   "source": [
    "#left_gm_elecs = list(elec_df['label'][(elec_df['label'].str.lower().str.startswith('l'))&~(elec_df['ManualExamination'].str.lower()=='wm') & ~(elec_df['ManualExamination'].str.lower()=='oob')])\n",
    "#right_gm_elecs = list(elec_df['label'][(elec_df['label'].str.lower().str.startswith('r'))&~(elec_df['ManualExamination'].str.lower()=='wm') & ~(elec_df['ManualExamination'].str.lower()=='oob')])\n",
    "gm_elecs = list(elec_df['label'][~(elec_df['ManualExamination'].str.lower()=='wm') & ~(elec_df['ManualExamination'].str.lower()=='oob')])\n"
   ]
  },
  {
   "cell_type": "code",
   "execution_count": 74,
   "metadata": {},
   "outputs": [
    {
     "name": "stderr",
     "output_type": "stream",
     "text": [
      "/var/folders/xk/q5rxx0ld0hnc9gjlq1dhwqhw0000gn/T/ipykernel_3047/299125889.py:1: RuntimeWarning: This filename (/Users/alexandrafink/Documents/GraduateSchool/SaezLab/SWB/ephys_analysis/data/MS017/epoch_DecisionOnset.fif) does not conform to MNE naming conventions. All epochs files should end with -epo.fif, -epo.fif.gz, _epo.fif or _epo.fif.gz\n",
      "  epochs_data = mne.read_epochs(f'{data_path}epoch_DecisionOnset.fif')\n"
     ]
    }
   ],
   "source": [
    "\n",
    "epochs_data = mne.read_epochs(f'{data_path}epoch_DecisionOnset.fif')\n",
    "gm_epochs_data = epochs_data.pick_channels(gm_elecs)\n",
    "#gm_epochs_data = epochs_data.pick_channels(left_gm_elecs + right_gm_elecs)\n",
    "#epochs_data = mne.read_epochs(f'{data_path}epoch_DecisionOnset.fif')\n",
    "#right_gm_epochs_data = epochs_data.pick_channels(right_gm_elecs)\n"
   ]
  },
  {
   "cell_type": "code",
   "execution_count": 75,
   "metadata": {},
   "outputs": [],
   "source": [
    "# left_seed_names = [ch for ch in left_gm_elecs if ch.startswith('l')]\n",
    "# right_seed_names = [ch for ch in right_gm_elecs if ch.startswith('r')]\n",
    "# left_target_names = [ch for ch in left_gm_elecs if ch.startswith('l')]\n",
    "# right_target_names = [ch for ch in right_gm_elecs if ch.startswith('r')]\n",
    "# left_seed_idx = [gm_epochs_data.ch_names.index(ch) for ch in left_seed_names]\n",
    "# right_seed_idx = [gm_epochs_data.ch_names.index(ch) for ch in right_seed_names]\n",
    "# left_target_idx = [gm_epochs_data.ch_names.index(ch) for ch in left_target_names]\n",
    "# right_target_idx = [gm_epochs_data.ch_names.index(ch) for ch in right_target_names]\n",
    "\n",
    "seed_names = [ch for ch in gm_elecs]\n",
    "target_names = [ch for ch in gm_elecs]\n",
    "seed_idx = [gm_epochs_data.ch_names.index(ch) for ch in seed_names]\n",
    "target_idx = [gm_epochs_data.ch_names.index(ch) for ch in target_names]\n",
    "\n"
   ]
  },
  {
   "cell_type": "code",
   "execution_count": 76,
   "metadata": {},
   "outputs": [],
   "source": [
    "# left_indices = seed_target_indices(left_seed_idx,left_target_idx)\n",
    "# right_indices = seed_target_indices(right_seed_idx,right_target_idx)\n",
    "indices = seed_target_indices(seed_idx,target_idx)\n"
   ]
  },
  {
   "cell_type": "code",
   "execution_count": 77,
   "metadata": {},
   "outputs": [],
   "source": [
    "#indices = ((np.concatenate((left_indices[0],right_indices[0]))),(np.concatenate((left_indices[1],right_indices[1]))))"
   ]
  },
  {
   "cell_type": "code",
   "execution_count": 78,
   "metadata": {},
   "outputs": [],
   "source": [
    "np.logspace(*np.log10([4, 8]), num=10)\n",
    "np.arange(4,8,step=0.2)\n",
    "method = 'coh'\n",
    "samplerate = gm_epochs_data.info['sfreq']\n",
    "band = [4,8]\n",
    "n_cycles = 4\n",
    "cwt_freqs = np.arange(4,8.2,step=0.2)"
   ]
  },
  {
   "cell_type": "code",
   "execution_count": 79,
   "metadata": {},
   "outputs": [],
   "source": [
    "#within hemisphere - left\n",
    "pairwise_connectivity = spectral_connectivity_epochs(gm_epochs_data,\n",
    "                                                            indices=indices,\n",
    "                                                            method=method,\n",
    "                                                            sfreq=samplerate,\n",
    "                                                            mode='cwt_morlet',\n",
    "                                                            fmin=band[0], fmax=band[1], faverage=True,\n",
    "                                                            tmin=gm_epochs_data.tmin,\n",
    "                                                            tmax=gm_epochs_data.tmax,\n",
    "                                                            cwt_freqs=cwt_freqs,\n",
    "                                                            cwt_n_cycles=n_cycles)\n",
    "\n",
    "# #within hemisphere - right\n",
    "# pairwise_connectivity = spectral_connectivity_epochs(gm_epochs_data,\n",
    "#                                                             indices=right_indices,\n",
    "#                                                             method=method,\n",
    "#                                                             sfreq=samplerate,\n",
    "#                                                             mode='cwt_morlet',\n",
    "#                                                             fmin=band[0], fmax=band[1], faverage=True,\n",
    "#                                                             tmin=gm_epochs_data.tmin,\n",
    "#                                                             tmax=gm_epochs_data.tmax,\n",
    "#                                                             cwt_freqs=cwt_freqs,\n",
    "#                                                             cwt_n_cycles=n_cycles)"
   ]
  },
  {
   "cell_type": "code",
   "execution_count": 523,
   "metadata": {},
   "outputs": [],
   "source": [
    "# gm_elecs = list(elec_df['label'][~(elec_df['ManualExamination'].str.lower()=='wm') & ~(elec_df['ManualExamination'].str.lower()=='oob')])\n",
    "# seed_names = [ch for ch in gm_elecs]\n",
    "# target_names = [ch for ch in gm_elecs]\n",
    "# seed_idx = [gm_epochs_data.ch_names.index(ch) for ch in seed_names]\n",
    "# target_idx = [gm_epochs_data.ch_names.index(ch) for ch in target_names]\n",
    "# indices = seed_target_indices(seed_idx,target_idx)\n"
   ]
  },
  {
   "cell_type": "code",
   "execution_count": 527,
   "metadata": {},
   "outputs": [],
   "source": [
    "# total_pairwise_connectivity = spectral_connectivity_epochs(gm_epochs_data,\n",
    "#                                                             indices=indices,\n",
    "#                                                             method=method,\n",
    "#                                                             sfreq=samplerate,\n",
    "#                                                             mode='cwt_morlet',\n",
    "#                                                             fmin=band[0], fmax=band[1], faverage=True,\n",
    "#                                                             tmin=gm_epochs_data.tmin,\n",
    "#                                                             tmax=gm_epochs_data.tmax,\n",
    "#                                                             cwt_freqs=cwt_freqs,\n",
    "#                                                             cwt_n_cycles=n_cycles)"
   ]
  },
  {
   "cell_type": "code",
   "execution_count": 17,
   "metadata": {},
   "outputs": [
    {
     "data": {
      "text/plain": [
       "(2401, 1, 1501)"
      ]
     },
     "execution_count": 17,
     "metadata": {},
     "output_type": "execute_result"
    }
   ],
   "source": [
    "pairwise_connectivity._data.shape #(n_signals ** 2, n_freqs (=1 because average), n_timepoints)  \n",
    "#if faverate = True, Average connectivity scores for each frequency band. If True, the output freqs will be a list with arrays of the frequencies that were averaged.\n"
   ]
  },
  {
   "cell_type": "code",
   "execution_count": 87,
   "metadata": {},
   "outputs": [],
   "source": [
    "conf_data = np.mean(np.squeeze(pairwise_connectivity._data),axis=1)\n"
   ]
  },
  {
   "cell_type": "code",
   "execution_count": 88,
   "metadata": {},
   "outputs": [],
   "source": [
    "coherence_data = np.reshape(conf_data,(len(gm_elecs),-1))"
   ]
  },
  {
   "cell_type": "code",
   "execution_count": 89,
   "metadata": {},
   "outputs": [
    {
     "data": {
      "text/plain": [
       "array([[1.        , 0.19366766, 0.1472792 , ..., 0.1256993 , 0.12518951,\n",
       "        0.11559661],\n",
       "       [0.19366766, 1.        , 0.24977624, ..., 0.10272035, 0.11009402,\n",
       "        0.1404238 ],\n",
       "       [0.1472792 , 0.24977624, 1.        , ..., 0.08625733, 0.10574551,\n",
       "        0.11620409],\n",
       "       ...,\n",
       "       [0.1256993 , 0.10272035, 0.08625733, ..., 1.        , 0.79033224,\n",
       "        0.60403452],\n",
       "       [0.12518951, 0.11009402, 0.10574551, ..., 0.79033224, 1.        ,\n",
       "        0.80676591],\n",
       "       [0.11559661, 0.1404238 , 0.11620409, ..., 0.60403452, 0.80676591,\n",
       "        1.        ]])"
      ]
     },
     "execution_count": 89,
     "metadata": {},
     "output_type": "execute_result"
    }
   ],
   "source": [
    "coherence_data"
   ]
  },
  {
   "cell_type": "code",
   "execution_count": 90,
   "metadata": {},
   "outputs": [],
   "source": [
    "#elec_tracts = ''.join([i for i in gm_elecs not i.isdigit()])\n",
    "anode_gm_elecs = [x.split('-')[0] for x in gm_elecs]\n",
    "elec_tracts = np.unique([\"\".join(filter(lambda x: not x.isdigit(), ch)) for ch in anode_gm_elecs])\n",
    "\n"
   ]
  },
  {
   "cell_type": "code",
   "execution_count": 91,
   "metadata": {},
   "outputs": [
    {
     "data": {
      "text/plain": [
       "array(['lacas', 'laglt', 'lalps', 'lhplt', 'lllt', 'lmcms', 'lmlbr',\n",
       "       'lmolf', 'lpcwr', 'lplsp', 'ltplt'], dtype='<U5')"
      ]
     },
     "execution_count": 91,
     "metadata": {},
     "output_type": "execute_result"
    }
   ],
   "source": [
    "elec_tracts\n",
    "#rois = ['lACC','lAmy','lHC','lInfIns','lMCC','lOFC','lPostIns','lPCC','rACC','rAmy','rHC','rInfIns','rMCC','rOFC','rPostIns','rPCC']\n",
    "#rois = ['ACC','Amy','aIns','HC','MTL','MCC','aMotor','OFC','STL','pIns','TP']"
   ]
  },
  {
   "cell_type": "code",
   "execution_count": 92,
   "metadata": {},
   "outputs": [
    {
     "data": {
      "text/plain": [
       "['lacas10',\n",
       " 'lacas2',\n",
       " 'lacas4',\n",
       " 'lacas5',\n",
       " 'lacas6',\n",
       " 'lacas8',\n",
       " 'laglt1',\n",
       " 'laglt2',\n",
       " 'laglt5',\n",
       " 'laglt6',\n",
       " 'laglt8',\n",
       " 'laglt9',\n",
       " 'lalps1',\n",
       " 'lalps11',\n",
       " 'lalps12',\n",
       " 'lalps13',\n",
       " 'lalps2',\n",
       " 'lalps3',\n",
       " 'lhplt1',\n",
       " 'lhplt2',\n",
       " 'lhplt3',\n",
       " 'lhplt8',\n",
       " 'lhplt9',\n",
       " 'lllt1',\n",
       " 'lllt6',\n",
       " 'lmcms1',\n",
       " 'lmcms3',\n",
       " 'lmcms7',\n",
       " 'lmlbr1',\n",
       " 'lmlbr2',\n",
       " 'lmlbr3',\n",
       " 'lmlbr4',\n",
       " 'lmolf2',\n",
       " 'lmolf4',\n",
       " 'lmolf6',\n",
       " 'lmolf7',\n",
       " 'lmolf8',\n",
       " 'lpcwr10',\n",
       " 'lpcwr11',\n",
       " 'lpcwr8',\n",
       " 'lpcwr9',\n",
       " 'lplsp1',\n",
       " 'lplsp2',\n",
       " 'lplsp9',\n",
       " 'ltplt2',\n",
       " 'ltplt3',\n",
       " 'ltplt5',\n",
       " 'ltplt6',\n",
       " 'ltplt7']"
      ]
     },
     "execution_count": 92,
     "metadata": {},
     "output_type": "execute_result"
    }
   ],
   "source": [
    "anode_gm_elecs"
   ]
  },
  {
   "cell_type": "code",
   "execution_count": 93,
   "metadata": {},
   "outputs": [],
   "source": [
    "rois = ['ACC','Amy','aIns','HC','MTL','MCC','aMotor','OFC','STL','pIns','TP']\n",
    "# (0,6),(7,12),(13,18),(19,23),(24,25),(26,28),(29,32),(33,37*ofc),(38,41),(42,44),(45,49)\n"
   ]
  },
  {
   "cell_type": "code",
   "execution_count": 94,
   "metadata": {},
   "outputs": [],
   "source": [
    "rois = ['ACC','Amy','aIns','HC','MTL','MCC','Mot','OFC','STL','pIns','TP']\n",
    "roi_idx = np.array([3,10,15,21,24,27,31,35,40,43,47])"
   ]
  },
  {
   "cell_type": "code",
   "execution_count": 95,
   "metadata": {},
   "outputs": [
    {
     "data": {
      "image/png": "[encoded data removed]",
      "text/plain": [
       "<Figure size 640x480 with 2 Axes>"
      ]
     },
     "metadata": {},
     "output_type": "display_data"
    }
   ],
   "source": [
    "fig, ax = plt.subplots(1)\n",
    "im = plt.matshow(coherence_data, fignum=0,norm='linear',cmap='viridis')\n",
    "fig.colorbar(im, ax=ax)\n",
    "#ax.secondary_xaxis('top',)\n",
    "#ax.set_xticks(subsets) \n",
    "\n",
    "\n",
    "ax.set_xticks(roi_idx)\n",
    "ax.set_xticklabels(rois,rotation=45)\n",
    "ax.set_yticks(roi_idx)\n",
    "ax.set_yticklabels(rois,rotation=45)\n",
    "#plt.savefig(\"Ignacio_OFC_Coherence.pdf\", format=\"pdf\", bbox_inches=\"tight\")\n",
    "plt.show()\n"
   ]
  },
  {
   "cell_type": "code",
   "execution_count": 36,
   "metadata": {},
   "outputs": [],
   "source": [
    "#OFC only coherence_data\n",
    "ofc_idx = [ix for ix, ch in enumerate(anode_gm_elecs) if \"olf\" in ch]\n"
   ]
  },
  {
   "cell_type": "code",
   "execution_count": 47,
   "metadata": {},
   "outputs": [],
   "source": [
    "ofc1 = coherence_data[ofc_idx,:]"
   ]
  },
  {
   "cell_type": "code",
   "execution_count": 48,
   "metadata": {},
   "outputs": [
    {
     "data": {
      "text/plain": [
       "(5, 49)"
      ]
     },
     "execution_count": 48,
     "metadata": {},
     "output_type": "execute_result"
    }
   ],
   "source": [
    "ofc1.shape"
   ]
  },
  {
   "cell_type": "code",
   "execution_count": 49,
   "metadata": {},
   "outputs": [],
   "source": [
    "ofc2 = coherence_data[:,ofc_idx]"
   ]
  },
  {
   "cell_type": "code",
   "execution_count": 54,
   "metadata": {},
   "outputs": [
    {
     "data": {
      "text/plain": [
       "array([[1.        , 0.79352088, 0.61671748, 0.35515094, 0.37923844],\n",
       "       [0.79352088, 1.        , 0.76430639, 0.41813512, 0.4516042 ],\n",
       "       [0.61671748, 0.76430639, 1.        , 0.39910474, 0.33639805],\n",
       "       [0.35515094, 0.41813512, 0.39910474, 1.        , 0.6473613 ],\n",
       "       [0.37923844, 0.4516042 , 0.33639805, 0.6473613 , 1.        ]])"
      ]
     },
     "execution_count": 54,
     "metadata": {},
     "output_type": "execute_result"
    }
   ],
   "source": [
    "ofc1[:,ofc_idx]"
   ]
  },
  {
   "cell_type": "code",
   "execution_count": 52,
   "metadata": {},
   "outputs": [
    {
     "data": {
      "text/plain": [
       "array([[1.        , 0.79352088, 0.61671748, 0.35515094, 0.37923844],\n",
       "       [0.79352088, 1.        , 0.76430639, 0.41813512, 0.4516042 ],\n",
       "       [0.61671748, 0.76430639, 1.        , 0.39910474, 0.33639805],\n",
       "       [0.35515094, 0.41813512, 0.39910474, 1.        , 0.6473613 ],\n",
       "       [0.37923844, 0.4516042 , 0.33639805, 0.6473613 , 1.        ]])"
      ]
     },
     "execution_count": 52,
     "metadata": {},
     "output_type": "execute_result"
    }
   ],
   "source": [
    "ofc2[ofc_idx,:]"
   ]
  },
  {
   "cell_type": "code",
   "execution_count": null,
   "metadata": {},
   "outputs": [],
   "source": []
  },
  {
   "cell_type": "code",
   "execution_count": 57,
   "metadata": {},
   "outputs": [
    {
     "data": {
      "text/plain": [
       "Text(0.5, 1.0, 'MS017')"
      ]
     },
     "execution_count": 57,
     "metadata": {},
     "output_type": "execute_result"
    },
    {
     "data": {
      "image/png": "[encoded data removed]",
      "text/plain": [
       "<Figure size 640x480 with 1 Axes>"
      ]
     },
     "metadata": {},
     "output_type": "display_data"
    }
   ],
   "source": [
    "#OFC only plot\n",
    "fig, ax = plt.subplots(1)\n",
    "plt.matshow(ofc2[ofc_idx,:], fignum=0,norm='log',cmap='viridis')\n",
    "plt.title('MS017')\n"
   ]
  },
  {
   "cell_type": "code",
   "execution_count": 319,
   "metadata": {},
   "outputs": [
    {
     "data": {
      "text/plain": [
       "['lacas10-lalps9',\n",
       " 'lacas2-lalps4',\n",
       " 'lacas4-lmolf1',\n",
       " 'lacas5-lmolf5',\n",
       " 'lacas6-lalps4',\n",
       " 'lacas8-lalps7',\n",
       " 'laglt1-ltplt4',\n",
       " 'laglt2-lhplt5',\n",
       " 'laglt5-lhplt5',\n",
       " 'laglt6-lhplt6',\n",
       " 'laglt8-lhplt7',\n",
       " 'laglt9-lhplt7',\n",
       " 'lalps1-lalps6',\n",
       " 'lalps11-lalps9',\n",
       " 'lalps12-lalps9',\n",
       " 'lalps13-lmcms6',\n",
       " 'lalps2-lalps6',\n",
       " 'lalps3-lalps6',\n",
       " 'lhplt1-lhplt5',\n",
       " 'lhplt2-lhplt5',\n",
       " 'lhplt3-lhplt5',\n",
       " 'lhplt8-lhplt7',\n",
       " 'lhplt9-lllt5',\n",
       " 'lllt1-lhplt5',\n",
       " 'lllt6-lhplt7',\n",
       " 'lmcms1-lalps8',\n",
       " 'lmcms3-lalps9',\n",
       " 'lmcms7-lalps10',\n",
       " 'lmlbr1-lalps6',\n",
       " 'lmlbr2-lllt4',\n",
       " 'lmlbr3-lhplt7',\n",
       " 'lmlbr4-lhplt7',\n",
       " 'lmolf2-lalps4',\n",
       " 'lmolf4-lalps4',\n",
       " 'lmolf6-lalps4',\n",
       " 'lmolf7-lalps4',\n",
       " 'lmolf8-lalps4',\n",
       " 'lpcwr10-lplsp6',\n",
       " 'lpcwr11-lplsp6',\n",
       " 'lpcwr8-lplsp4',\n",
       " 'lpcwr9-lplsp5',\n",
       " 'lplsp1-lplsp4',\n",
       " 'lplsp2-lplsp3',\n",
       " 'lplsp9-lplsp8',\n",
       " 'ltplt2-ltplt4',\n",
       " 'ltplt3-ltplt4',\n",
       " 'ltplt5-ltplt4',\n",
       " 'ltplt6-ltplt4',\n",
       " 'ltplt7-ltplt4']"
      ]
     },
     "execution_count": 319,
     "metadata": {},
     "output_type": "execute_result"
    }
   ],
   "source": [
    "gm_elecs\n",
    "\n",
    "rois = ['Anterior Cingulate', 'Amygdala','Anterior Insula','Hippocampus','Inferior Insula','Middle Cingulate', 'Middle Insula', 'Orbitofrontal','Posterior Cingulate','Posterior Insula','Temporal Pole']"
   ]
  },
  {
   "cell_type": "code",
   "execution_count": null,
   "metadata": {},
   "outputs": [],
   "source": [
    "#salman code \n",
    "\n",
    "\n",
    "#samplerate, band, metric, indices, n_cycles, rois\n",
    "def compute_connectivity(self, eeg_mne, samplerate, band, metric, indices, n_cycles):\n",
    "    \"\"\"\n",
    "    Compute different connectivity metrics using mne.\n",
    "    :param eeg_mne: MNE formatted EEG\n",
    "    :param samplerate: sample rate of the data\n",
    "    :param band: tuple of band of interest\n",
    "    :param metric: 'psi' or 'coh', usually.\n",
    "    :param indices: determine the source and sink for connectivity. Matters most for directional metrics i.e. 'psi'\n",
    "    :return:\n",
    "    pairwise connectivity: array of pairwise weights for the connectivity metric with some number of timepoints\n",
    "    \"\"\"\n",
    "    if metric == 'psi':\n",
    "        pairwise_connectivity = np.squeeze(phase_slope_index(eeg_mne,\n",
    "                                                                indices=indices,\n",
    "                                                                sfreq=samplerate,\n",
    "                                                                mode='cwt_morlet',\n",
    "                                                                fmin=band[0], fmax=band[1],\n",
    "                                                                tmin=eeg_mne.tmin + (self.buf_ms / 1000),\n",
    "                                                                tmax=eeg_mne.tmax - (self.buf_ms / 1000),\n",
    "                                                                cwt_freqs=self.freqs,\n",
    "                                                                cwt_n_cycles=n_cycles,\n",
    "                                                            verbose='warning')[0])\n",
    "    else:\n",
    "        pairwise_connectivity = np.squeeze(spectral_connectivity_epochs(eeg_mne,\n",
    "                                                                    indices=indices,\n",
    "                                                                    method=metric,\n",
    "                                                                    sfreq=samplerate,\n",
    "                                                                    mode='cwt_morlet',\n",
    "                                                                    fmin=band[0], fmax=band[1], faverage=True,\n",
    "                                                                    tmin=eeg_mne.tmin + (self.buf_ms / 1000),\n",
    "                                                                    tmax=eeg_mne.tmax - (self.buf_ms / 1000),\n",
    "                                                                    cwt_freqs=self.freqs,\n",
    "                                                                    cwt_n_cycles=n_cycles,\n",
    "                                                                    verbose='warning')[0])\n",
    "    return pairwise_connectivity"
   ]
  },
  {
   "cell_type": "code",
   "execution_count": null,
   "metadata": {},
   "outputs": [],
   "source": [
    "seed_target_df = pd.DataFrame(columns=['seed', 'target'], index=['left', 'right'])\n",
    "seed_target_df['seed']['left'] = np.where(self.elec_info[~right_elec_mask].regions == self.roi[0])[0]\n",
    "seed_target_df['target']['left'] = np.where(self.elec_info[~right_elec_mask].regions == self.roi[1])[0]\n",
    "seed_target_df['seed']['right'] = np.where(self.elec_info[right_elec_mask].regions == self.roi[0])[0]\n",
    "seed_target_df['target']['right'] = np.where(self.elec_info[right_elec_mask].regions == self.roi[1])[0]\n",
    "\n",
    "seed_target_df = seed_target_df[\n",
    "    (seed_target_df['seed'].map(lambda d: len(d) > 0)) & (seed_target_df['target'].map(lambda d: len(d) > 0))]\n",
    "\n",
    "for hemi in ['left', 'right']:\n",
    "    # first determine if ipsi connectivity is even possible; if not, move on\n",
    "    if hemi not in seed_target_df.index.tolist():\n",
    "        continue\n",
    "    else:\n",
    "        seed_to_source = seed_target_indices(\n",
    "            seed_target_df['seed'][hemi],\n",
    "            seed_target_df['target'][hemi])"
   ]
  },
  {
   "cell_type": "markdown",
   "metadata": {},
   "source": [
    "psi_nr = self.compute_connectivity(eeg_mne[forgotten_data_mask],\n",
    "                                                           samplerate=self.mne_samplerate,\n",
    "                                                           band=[self.fb['low_theta'][0], self.fb['high_theta'][1]],\n",
    "                                                           metric='psi',\n",
    "                                                           indices=seed_to_source,\n",
    "                                                           n_cycles=7)"
   ]
  }
 ],
 "metadata": {
  "kernelspec": {
   "display_name": "Python 3 (ipykernel)",
   "language": "python",
   "name": "python3"
  },
  "language_info": {
   "codemirror_mode": {
    "name": "ipython",
    "version": 3
   },
   "file_extension": ".py",
   "mimetype": "text/x-python",
   "name": "python",
   "nbconvert_exporter": "python",
   "pygments_lexer": "ipython3",
   "version": "3.9.16"
  }
 },
 "nbformat": 4,
 "nbformat_minor": 2
}
