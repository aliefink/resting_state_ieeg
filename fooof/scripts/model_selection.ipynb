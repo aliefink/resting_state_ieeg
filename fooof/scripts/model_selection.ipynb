{
 "cells": [
  {
   "cell_type": "markdown",
   "metadata": {},
   "source": [
    "# Pipeline for implementing model selection for spectral parameterization\n",
    "\n",
    "based on this paper: https://github.com/lucwilson/model_selection (currently has MATLAB code)"
   ]
  },
  {
   "cell_type": "markdown",
   "metadata": {},
   "source": [
    "Overview of steps: \n",
    "1. fit an aperiodic-only model \n",
    "2. fit periodic model with range of hyperparameters\n",
    "3. compute log likelihood given residuals of model fit\n",
    "4. compute BIC for model comparison \n",
    "5. compute Bayes factor to determine evidence in favor of periodic activity \n",
    "\n",
    "Use these metrics (BIC comparison and Bayes factor) to 1. determine whether there was periodic activity present in a given electrode and 2. see which hyperparameter settings are best. \n"
   ]
  }
 ],
 "metadata": {
  "language_info": {
   "name": "python"
  }
 },
 "nbformat": 4,
 "nbformat_minor": 2
}
