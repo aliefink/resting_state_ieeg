{
 "cells": [
  {
   "cell_type": "markdown",
   "metadata": {},
   "source": [
    "This notebook implements FOOOF model fitting for resting state data. PSD and model fitting settings are based on [Donoghue et al](https://www.nature.com/articles/s41593-020-00744-x). Right now, this is set up to run FOOOF on a subject by subject basis."
   ]
  },
  {
   "cell_type": "code",
   "execution_count": 1,
   "metadata": {},
   "outputs": [
    {
     "name": "stdout",
     "output_type": "stream",
     "text": [
      "\u001b[33mWARNING: You are using pip version 22.0.4; however, version 24.0 is available.\n",
      "You should consider upgrading via the '/Users/christinamaher/Desktop/particle_filter/pf/bin/python -m pip install --upgrade pip' command.\u001b[0m\u001b[33m\n",
      "\u001b[0m"
     ]
    }
   ],
   "source": [
    "import sys\n",
    "!{sys.executable} -m pip install neurodsp --quiet"
   ]
  },
  {
   "cell_type": "code",
   "execution_count": 3,
   "metadata": {},
   "outputs": [
    {
     "name": "stderr",
     "output_type": "stream",
     "text": [
      "/var/folders/5p/bctklsps5kgb5fk5s1nygs3m0000gn/T/ipykernel_25693/1795832890.py:8: DeprecationWarning: \n",
      "Pyarrow will become a required dependency of pandas in the next major release of pandas (pandas 3.0),\n",
      "(to allow more performant data types, such as the Arrow string type, and better interoperability with other libraries)\n",
      "but was not found to be installed on your system.\n",
      "If this would cause problems for you,\n",
      "please provide us feedback at https://github.com/pandas-dev/pandas/issues/54466\n",
      "        \n",
      "  import pandas as pd\n",
      "/var/folders/5p/bctklsps5kgb5fk5s1nygs3m0000gn/T/ipykernel_25693/1795832890.py:24: DeprecationWarning: \n",
      "The `fooof` package is being deprecated and replaced by the `specparam` (spectral parameterization) package.\n",
      "This version of `fooof` (1.1) is fully functional, but will not be further updated.\n",
      "New projects are recommended to update to using `specparam` (see Changelog for details).\n",
      "  from fooof import FOOOF, FOOOFGroup\n"
     ]
    }
   ],
   "source": [
    "# load required packages \n",
    "%matplotlib inline\n",
    "\n",
    "import os\n",
    "from collections import Counter\n",
    "\n",
    "import numpy as np\n",
    "import pandas as pd\n",
    "import matplotlib.pyplot as plt\n",
    "from matplotlib import cm\n",
    "from glob import glob\n",
    "\n",
    "from scipy.signal import periodogram\n",
    "\n",
    "# MNE & associated code\n",
    "import mne\n",
    "from mne.preprocessing import ICA, read_ica\n",
    "from mne.utils import _time_mask\n",
    "\n",
    "from autoreject import AutoReject, read_auto_reject\n",
    "from autoreject.autoreject import _apply_interp\n",
    "\n",
    "# FOOOF, and custom helper & utility functions\n",
    "from fooof import FOOOF, FOOOFGroup\n",
    "from fooof.objs import average_fg\n",
    "from fooof.plts import plot_spectrum\n",
    "from fooof.utils import trim_spectrum\n",
    "from fooof.data import FOOOFSettings\n",
    "from fooof.analysis import get_band_peak_fm, get_band_peak_fg\n",
    "\n",
    "# Import spectral power functions\n",
    "from neurodsp.spectral import compute_spectrum_welch, rotate_powerlaw\n",
    "\n",
    "# Import utilities for loading and plotting data\n",
    "from neurodsp.utils import create_times\n",
    "from neurodsp.utils.download import load_ndsp_data\n",
    "#from spectral import plot_power_spectra\n",
    "from neurodsp.plts.time_series import plot_time_series"
   ]
  },
  {
   "cell_type": "code",
   "execution_count": 4,
   "metadata": {},
   "outputs": [
    {
     "name": "stdout",
     "output_type": "stream",
     "text": [
      "20\n"
     ]
    }
   ],
   "source": [
    "# Initialize some variables\n",
    "\n",
    "# set up directories\n",
    "data_dir = '/Users/christinamaher/Documents/GitHub/resting_state_ieeg/preprocess/bp_clean/'\n",
    "save_dir = '/Users/christinamaher/Documents/GitHub/resting_state_ieeg/fooof/results/'\n",
    "\n",
    "# get some info about the data/subjects\n",
    "subject_list = ['MS001','MS003','MS006','MS007','MS008','MS010','MS012','MS014','MS016',\n",
    "               'MS017','MS018','MS019','MS020','MS022','MS023','MS024','MS025','MS026','MS027','MS028'] # list of subjects\n",
    "sr = 500 # sampling rate - all subjects were resampled to 500 hz \n",
    "num_subjects = len(subject_list) # get number of subjects\n",
    "print(num_subjects)"
   ]
  },
  {
   "cell_type": "code",
   "execution_count": 36,
   "metadata": {},
   "outputs": [
    {
     "name": "stdout",
     "output_type": "stream",
     "text": [
      "Opening raw data file /Users/christinamaher/Documents/GitHub/resting_state_ieeg/preprocess/bp_clean//MS001_bp_ref_ieeg.fif...\n",
      "    Range : 0 ... 304687 =      0.000 ...   609.374 secs\n",
      "Ready.\n",
      "Reading 0 ... 304687  =      0.000 ...   609.374 secs...\n"
     ]
    },
    {
     "data": {
      "text/html": [
       "<details open>\n",
       "    <summary><strong>General</strong></summary>\n",
       "    <table class=\"table table-hover table-striped table-sm table-responsive small\">\n",
       "        <tr>\n",
       "            <th>Measurement date</th>\n",
       "            \n",
       "            <td>January 01, 2001  10:19:41 GMT</td>\n",
       "            \n",
       "        </tr>\n",
       "        <tr>\n",
       "            <th>Experimenter</th>\n",
       "            \n",
       "            <td>Unknown</td>\n",
       "            \n",
       "        </tr>\n",
       "        <tr>\n",
       "            <th>Participant</th>\n",
       "            \n",
       "            <td>Unknown</td>\n",
       "            \n",
       "        </tr>\n",
       "    </table>\n",
       "    </details>\n",
       "    <details open>\n",
       "        <summary><strong>Channels</strong></summary>\n",
       "        <table class=\"table table-hover table-striped table-sm table-responsive small\">\n",
       "            <tr>\n",
       "                <th>Digitized points</th>\n",
       "                \n",
       "                <td>128 points</td>\n",
       "                \n",
       "            </tr>\n",
       "            <tr>\n",
       "                <th>Good channels</th>\n",
       "                <td>61 sEEG</td>\n",
       "            </tr>\n",
       "            <tr>\n",
       "                <th>Bad channels</th>\n",
       "                <td>None</td>\n",
       "            </tr>\n",
       "            <tr>\n",
       "                <th>EOG channels</th>\n",
       "                <td>Not available</td>\n",
       "            </tr>\n",
       "            <tr>\n",
       "                <th>ECG channels</th>\n",
       "                <td>Not available</td>\n",
       "            </tr>\n",
       "        </table>\n",
       "        </details>\n",
       "        <details open>\n",
       "            <summary><strong>Data</strong></summary>\n",
       "            <table class=\"table table-hover table-striped table-sm table-responsive small\">\n",
       "                \n",
       "                <tr>\n",
       "                    <th>Sampling frequency</th>\n",
       "                    <td>500.00 Hz</td>\n",
       "                </tr>\n",
       "                \n",
       "                \n",
       "                <tr>\n",
       "                    <th>Highpass</th>\n",
       "                    <td>0.00 Hz</td>\n",
       "                </tr>\n",
       "                \n",
       "                \n",
       "                <tr>\n",
       "                    <th>Lowpass</th>\n",
       "                    <td>250.00 Hz</td>\n",
       "                </tr>\n",
       "                \n",
       "                \n",
       "                \n",
       "                <tr>\n",
       "                    <th>Filenames</th>\n",
       "                    <td>MS001_bp_ref_ieeg.fif</td>\n",
       "                </tr>\n",
       "                \n",
       "                \n",
       "                <tr>\n",
       "                    <th>Duration</th>\n",
       "                    <td>00:10:10 (HH:MM:SS)</td>\n",
       "                </tr>\n",
       "                \n",
       "            </table>\n",
       "            </details>"
      ],
      "text/plain": [
       "<Raw | MS001_bp_ref_ieeg.fif, 61 x 304688 (609.4 s), ~141.9 MB, data loaded>"
      ]
     },
     "execution_count": 36,
     "metadata": {},
     "output_type": "execute_result"
    }
   ],
   "source": [
    "subject ='MS001' # subject_list[1]\n",
    "fif_file = glob(f'{data_dir}/{subject}_bp_ref_ieeg.fif')\n",
    "clean_raw = mne.io.read_raw_fif(fif_file[0], preload=True)\n",
    "clean_raw"
   ]
  },
  {
   "cell_type": "code",
   "execution_count": 34,
   "metadata": {},
   "outputs": [
    {
     "data": {
      "text/html": [
       "<details open>\n",
       "    <summary><strong>General</strong></summary>\n",
       "    <table class=\"table table-hover table-striped table-sm table-responsive small\">\n",
       "        <tr>\n",
       "            <th>Measurement date</th>\n",
       "            \n",
       "            <td>January 01, 2001  10:19:41 GMT</td>\n",
       "            \n",
       "        </tr>\n",
       "        <tr>\n",
       "            <th>Experimenter</th>\n",
       "            \n",
       "            <td>Unknown</td>\n",
       "            \n",
       "        </tr>\n",
       "        <tr>\n",
       "            <th>Participant</th>\n",
       "            \n",
       "            <td>Unknown</td>\n",
       "            \n",
       "        </tr>\n",
       "    </table>\n",
       "    </details>\n",
       "    <details open>\n",
       "        <summary><strong>Channels</strong></summary>\n",
       "        <table class=\"table table-hover table-striped table-sm table-responsive small\">\n",
       "            <tr>\n",
       "                <th>Digitized points</th>\n",
       "                \n",
       "                <td>128 points</td>\n",
       "                \n",
       "            </tr>\n",
       "            <tr>\n",
       "                <th>Good channels</th>\n",
       "                <td>61 sEEG</td>\n",
       "            </tr>\n",
       "            <tr>\n",
       "                <th>Bad channels</th>\n",
       "                <td>None</td>\n",
       "            </tr>\n",
       "            <tr>\n",
       "                <th>EOG channels</th>\n",
       "                <td>Not available</td>\n",
       "            </tr>\n",
       "            <tr>\n",
       "                <th>ECG channels</th>\n",
       "                <td>Not available</td>\n",
       "            </tr>\n",
       "        </table>\n",
       "        </details>\n",
       "        <details open>\n",
       "            <summary><strong>Data</strong></summary>\n",
       "            <table class=\"table table-hover table-striped table-sm table-responsive small\">\n",
       "                \n",
       "                <tr>\n",
       "                    <th>Sampling frequency</th>\n",
       "                    <td>500.00 Hz</td>\n",
       "                </tr>\n",
       "                \n",
       "                \n",
       "                <tr>\n",
       "                    <th>Highpass</th>\n",
       "                    <td>0.00 Hz</td>\n",
       "                </tr>\n",
       "                \n",
       "                \n",
       "                <tr>\n",
       "                    <th>Lowpass</th>\n",
       "                    <td>250.00 Hz</td>\n",
       "                </tr>\n",
       "                \n",
       "                \n",
       "                \n",
       "                <tr>\n",
       "                    <th>Filenames</th>\n",
       "                    <td>MS001_bp_ref_ieeg.fif</td>\n",
       "                </tr>\n",
       "                \n",
       "                \n",
       "                <tr>\n",
       "                    <th>Duration</th>\n",
       "                    <td>00:07:00 (HH:MM:SS)</td>\n",
       "                </tr>\n",
       "                \n",
       "            </table>\n",
       "            </details>"
      ],
      "text/plain": [
       "<Raw | MS001_bp_ref_ieeg.fif, 61 x 210001 (420.0 s), ~97.8 MB, data loaded>"
      ]
     },
     "execution_count": 34,
     "metadata": {},
     "output_type": "execute_result"
    }
   ],
   "source": [
    "clean_raw.crop(tmin=10,tmax=430) # take 7 minutes worth of data \n",
    "clean_raw"
   ]
  },
  {
   "cell_type": "code",
   "execution_count": 35,
   "metadata": {},
   "outputs": [
    {
     "data": {
      "text/plain": [
       "['lacas1-lacas2',\n",
       " 'lacas2-lacas3',\n",
       " 'lacas3-lacas4',\n",
       " 'lacas4-lacas5',\n",
       " 'lacas5-lacas6',\n",
       " 'lacas6-lacas9',\n",
       " 'lagit1-lagit2',\n",
       " 'lagit2-lagit3',\n",
       " 'lagit3-lagit4',\n",
       " 'lagit4-lagit5',\n",
       " 'lagit7-lagit8',\n",
       " 'lagit8-lagit9',\n",
       " 'lhplt1-lhplt2',\n",
       " 'lhplt2-lhplt3',\n",
       " 'lhplt3-lhplt4',\n",
       " 'lhplt4-lhplt6',\n",
       " 'lhplt6-lhplt7',\n",
       " 'lhplt7-lhplt8',\n",
       " 'lhplt8-lhplt9',\n",
       " 'lhplt9-lhplt10',\n",
       " 'lmcms1-lmcms2',\n",
       " 'lmcms2-lmcms3',\n",
       " 'lmcms3-lmcms4',\n",
       " 'lmcms6-lmcms7',\n",
       " 'lmolf1-lmolf2',\n",
       " 'lmolf3-lmolf4',\n",
       " 'lmolf4-lmolf5',\n",
       " 'lmolf7-lmolf8',\n",
       " 'lmolf8-lmolf9',\n",
       " 'lmolf9-lmolf10',\n",
       " 'lmtpt1-lmtpt2',\n",
       " 'lmtpt2-lmtpt3',\n",
       " 'lmtpt6-lmtpt7',\n",
       " 'lmtpt7-lmtpt8',\n",
       " 'racas1-racas2',\n",
       " 'racas3-racas4',\n",
       " 'racas4-racas5',\n",
       " 'racas5-racas7',\n",
       " 'racas8-racas9',\n",
       " 'racas9-racas10',\n",
       " 'ragit1-ragit2',\n",
       " 'ragit2-ragit3',\n",
       " 'ragit3-ragit4',\n",
       " 'rhplt1-rhplt5',\n",
       " 'rhplt8-rhplt9',\n",
       " 'rmcms1-rmcms2',\n",
       " 'rmcms2-rmcms3',\n",
       " 'rmcms3-rmcms4',\n",
       " 'rmcms4-rmcms5',\n",
       " 'rmcms7-rmcms8',\n",
       " 'rmolf1-rmolf2',\n",
       " 'rmolf3-rmolf4',\n",
       " 'rmolf4-rmolf5',\n",
       " 'rmolf5-rmolf8',\n",
       " 'rmolf8-rmolf9',\n",
       " 'rmolf9-rmolf10',\n",
       " 'rmolf10-rmolf11',\n",
       " 'rmtpt5-rmtpt6',\n",
       " 'rmtpt6-rmtpt7',\n",
       " 'rmtpt7-rmtpt8',\n",
       " 'rmtpt8-rmtpt9']"
      ]
     },
     "execution_count": 35,
     "metadata": {},
     "output_type": "execute_result"
    }
   ],
   "source": [
    "clean_raw.ch_names"
   ]
  },
  {
   "cell_type": "code",
   "execution_count": 26,
   "metadata": {},
   "outputs": [],
   "source": [
    "num_channels = len(clean_raw.ch_names) # get number of channels\n",
    "freq_master = np.zeros((77,)) # frequency - initialize list to store frequency for each channel\n",
    "psd_master = np.zeros((num_channels, 77)) # power spectral density - initialize list to store psd for each channel\n",
    "ch_names = clean_raw.ch_names # get channel names\n",
    "\n",
    "for channel in range(num_channels):\n",
    "    # compute power spectral density for each channel using welch method, median average, hann window, 2 second window, 50% overlap \n",
    "    freq, psd = compute_spectrum_welch(sig=clean_raw._data[channel,:], fs=sr, window='hann',avg_type='median',nperseg=sr*2,f_range=(2,40),noverlap=(sr*2)/2)\n",
    "    psd_master[channel,:] = psd \n",
    "    if channel == 0: # only need to get frequency once\n",
    "        freq_master[:,] = freq\n",
    "    else:\n",
    "        continue # continue to next channel"
   ]
  },
  {
   "cell_type": "code",
   "execution_count": 27,
   "metadata": {},
   "outputs": [
    {
     "name": "stdout",
     "output_type": "stream",
     "text": [
      "Running FOOOFGroup across 83 power spectra.\n"
     ]
    },
    {
     "data": {
      "image/png": "[encoded data removed]",
      "text/plain": [
       "<Figure size 900x700 with 4 Axes>"
      ]
     },
     "metadata": {},
     "output_type": "display_data"
    }
   ],
   "source": [
    "# Run FOOOF on the power spectra for each channel in each subject and store the results\n",
    "fg = FOOOFGroup(peak_width_limits=[1, 6], max_n_peaks=6, min_peak_height = 0.1, peak_threshold=2, aperiodic_mode = 'fixed')\n",
    "fg.fit(freq_master, psd_master, freq_range=[1, 40])\n",
    "\n",
    "# Plot a summary of the results across the group (i.e., channels in one subject's worth of data)\n",
    "fg.plot()\n",
    "\n",
    "# Save out PDF reports of the FOOOFGroup fits, same as with FOOOF\n",
    "os.chdir(f'/Users/christinamaher/Documents/GitHub/resting_state_ieeg/fooof/results/')\n",
    "fg.save_report(f'FOOOFGroup_report_{subject}')"
   ]
  },
  {
   "cell_type": "code",
   "execution_count": 28,
   "metadata": {},
   "outputs": [],
   "source": [
    "# Extract aperiodic parameters\n",
    "aps = fg.get_params('aperiodic_params')\n",
    "exps = fg.get_params('aperiodic_params', 'exponent')\n",
    "\n",
    "# Extract peak parameters\n",
    "peaks = fg.get_params('peak_params')\n",
    "\n",
    "# Extract goodness-of-fit metrics\n",
    "errors = fg.get_params('error')\n",
    "r2s = fg.get_params('r_squared')\n",
    "\n",
    "ch_name_list = []\n",
    "\n",
    "for c in range(len(peaks[:, 3])):\n",
    "    ch_num_temp = int(peaks[:, 3][c])\n",
    "    ch_name_temp = ch_names[ch_num_temp]\n",
    "    ch_name_list.append(ch_name_temp)\n",
    "\n",
    "# Create a dataframe to store the results\n",
    "aperiodic_df = pd.DataFrame({\n",
    "    'ch_name': ch_names,\n",
    "    'subject': np.repeat(subject, num_channels),\n",
    "    'aperiodic_exponent': exps,\n",
    "    'aperiodic_offset': aps[:, 0],\n",
    "    'error': errors,\n",
    "    'r^2': r2s\n",
    "})\n",
    "\n",
    "periodic_df = pd.DataFrame({\n",
    "    'ch_name': ch_name_list,\n",
    "    'subject': np.repeat(subject, len(ch_name_list)),\n",
    "    'power': peaks[:, 0],\n",
    "    'center_freq': peaks[:, 1],\n",
    "    'bandwidth': peaks[:, 2]\n",
    "})\n",
    "\n",
    "# for each center_freq in the dataframe, create another column and store whether it falls with the delta, theta, alpha, beta, or gamma band\n",
    "periodic_df['freq_band'] = pd.cut(periodic_df['center_freq'], [1, 4, 8, 13, 20, 30, 40], labels=['delta', 'theta', 'alpha', 'low_beta', 'high_beta', 'gamma'])\n",
    "\n",
    "# for each ch_name and sub_id, create another column and store the sub_id and ch_name as a unique identifier (helpful for visualizing/stats)\n",
    "periodic_df['uniqueID'] = periodic_df['ch_name'] + '_' + periodic_df['subject']\n",
    "aperiodic_df['uniqueID'] = aperiodic_df['ch_name'] + '_' + aperiodic_df['subject']"
   ]
  },
  {
   "cell_type": "code",
   "execution_count": 29,
   "metadata": {},
   "outputs": [],
   "source": [
    "# Save DataFrame to CSV\n",
    "periodic_df.to_csv(f'{save_dir}/{subject}_periodic_df.csv', index=False)\n",
    "aperiodic_df.to_csv(f'{save_dir}/{subject}_aperiodic_df.csv', index=False)"
   ]
  },
  {
   "cell_type": "markdown",
   "metadata": {},
   "source": [
    "# Initialize dataframe to store fooof results with YBA labels - didn't do in first pass (3/14/23)\n",
    "df_YBA = pd.DataFrame()\n",
    "\n",
    "for subject in subject_list:\n",
    "    YBA = pd.read_csv(f'YBA_{subject}.csv')\n",
    "    df_temp = df[df['sub_id'] == subject]\n",
    "    df_temp['yba_label'] = df_temp['ch_name'].map(YBA.set_index('ch_name')['YBA'])\n",
    "    df_YBA = df_YBA.append(df_temp)"
   ]
  },
  {
   "cell_type": "code",
   "execution_count": null,
   "metadata": {},
   "outputs": [],
   "source": []
  }
 ],
 "metadata": {
  "kernelspec": {
   "display_name": "Python 3 (ipykernel)",
   "language": "python",
   "name": "python3"
  },
  "language_info": {
   "codemirror_mode": {
    "name": "ipython",
    "version": 3
   },
   "file_extension": ".py",
   "mimetype": "text/x-python",
   "name": "python",
   "nbconvert_exporter": "python",
   "pygments_lexer": "ipython3",
   "version": "3.9.12"
  }
 },
 "nbformat": 4,
 "nbformat_minor": 2
}
