{
 "cells": [
  {
   "cell_type": "markdown",
   "metadata": {},
   "source": [
    "This notebook implements FOOOF model fitting for resting state data. PSD and model fitting settings are based on [Donoghue et al](https://www.nature.com/articles/s41593-020-00744-x). Right now, this is set up to run FOOOF on a subject by subject basis. TO DO: scale up across subjects. "
   ]
  },
  {
   "cell_type": "code",
   "execution_count": 5,
   "metadata": {},
   "outputs": [
    {
     "name": "stdout",
     "output_type": "stream",
     "text": [
      "\u001b[33mWARNING: You are using pip version 22.0.4; however, version 24.0 is available.\n",
      "You should consider upgrading via the '/Users/christinamaher/Desktop/particle_filter/pf/bin/python -m pip install --upgrade pip' command.\u001b[0m\u001b[33m\n",
      "\u001b[0m"
     ]
    }
   ],
   "source": [
    "import sys\n",
    "!{sys.executable} -m pip install neurodsp --quiet"
   ]
  },
  {
   "cell_type": "code",
   "execution_count": 3,
   "metadata": {},
   "outputs": [
    {
     "ename": "ModuleNotFoundError",
     "evalue": "No module named 'fooof'",
     "output_type": "error",
     "traceback": [
      "\u001b[0;31m---------------------------------------------------------------------------\u001b[0m",
      "\u001b[0;31mModuleNotFoundError\u001b[0m                       Traceback (most recent call last)",
      "Cell \u001b[0;32mIn[3], line 23\u001b[0m\n\u001b[1;32m     20\u001b[0m \u001b[38;5;28;01mfrom\u001b[39;00m \u001b[38;5;21;01mautoreject\u001b[39;00m\u001b[38;5;21;01m.\u001b[39;00m\u001b[38;5;21;01mautoreject\u001b[39;00m \u001b[38;5;28;01mimport\u001b[39;00m _apply_interp\n\u001b[1;32m     22\u001b[0m \u001b[38;5;66;03m# FOOOF, and custom helper & utility functions\u001b[39;00m\n\u001b[0;32m---> 23\u001b[0m \u001b[38;5;28;01mfrom\u001b[39;00m \u001b[38;5;21;01mfooof\u001b[39;00m \u001b[38;5;28;01mimport\u001b[39;00m FOOOF, FOOOFGroup\n\u001b[1;32m     24\u001b[0m \u001b[38;5;28;01mfrom\u001b[39;00m \u001b[38;5;21;01mfooof\u001b[39;00m\u001b[38;5;21;01m.\u001b[39;00m\u001b[38;5;21;01mobjs\u001b[39;00m \u001b[38;5;28;01mimport\u001b[39;00m average_fg\n\u001b[1;32m     25\u001b[0m \u001b[38;5;28;01mfrom\u001b[39;00m \u001b[38;5;21;01mfooof\u001b[39;00m\u001b[38;5;21;01m.\u001b[39;00m\u001b[38;5;21;01mplts\u001b[39;00m \u001b[38;5;28;01mimport\u001b[39;00m plot_spectrum\n",
      "\u001b[0;31mModuleNotFoundError\u001b[0m: No module named 'fooof'"
     ]
    }
   ],
   "source": [
    "# load required packages \n",
    "%matplotlib inline\n",
    "\n",
    "import os\n",
    "from collections import Counter\n",
    "\n",
    "import numpy as np\n",
    "import pandas as pd\n",
    "import matplotlib.pyplot as plt\n",
    "from matplotlib import cm\n",
    "\n",
    "from scipy.signal import periodogram\n",
    "\n",
    "# MNE & associated code\n",
    "import mne\n",
    "from mne.preprocessing import ICA, read_ica\n",
    "from mne.utils import _time_mask\n",
    "\n",
    "from autoreject import AutoReject, read_auto_reject\n",
    "from autoreject.autoreject import _apply_interp\n",
    "\n",
    "# FOOOF, and custom helper & utility functions\n",
    "from fooof import FOOOF, FOOOFGroup\n",
    "from fooof.objs import average_fg\n",
    "from fooof.plts import plot_spectrum\n",
    "from fooof.utils import trim_spectrum\n",
    "from fooof.data import FOOOFSettings\n",
    "from fooof.analysis import get_band_peak_fm, get_band_peak_fg\n",
    "\n",
    "# Import spectral power functions\n",
    "from neurodsp.spectral import compute_spectrum_welch, rotate_powerlaw\n",
    "\n",
    "# Import utilities for loading and plotting data\n",
    "from neurodsp.utils import create_times\n",
    "from neurodsp.utils.download import load_ndsp_data\n",
    "#from spectral import plot_power_spectra\n",
    "from neurodsp.plts.time_series import plot_time_series"
   ]
  },
  {
   "cell_type": "code",
   "execution_count": null,
   "metadata": {},
   "outputs": [],
   "source": [
    "# load data\n",
    "subject_list = [] # list of subjects\n",
    "sr = clean_raw.info[''] # get sampling rate "
   ]
  },
  {
   "cell_type": "code",
   "execution_count": null,
   "metadata": {},
   "outputs": [],
   "source": [
    "freq = [] # frequency - initialize list to store frequency for each channel\n",
    "psd = [] # power spectral density - initialize list to store psd for each channel\n",
    "num_channels = len(clean_raw.ch_names) # get number of channels\n",
    "ch_names = clean_raw.ch_names # get channel names\n",
    "\n",
    "for channel in range(num_channels):\n",
    "    freq, psd = compute_spectrum_welch(sig=clean_raw._data[channel,:], fs=sr, window='hann',avg_type='median',nperseg=sr*2,f_range=(2,40))\n",
    "    psd.append(psd)\n",
    "    if channel == 0: # only need to get frequency once\n",
    "        freq.append(freq)\n",
    "    else:\n",
    "        continue # continue to next channel"
   ]
  },
  {
   "cell_type": "code",
   "execution_count": null,
   "metadata": {},
   "outputs": [],
   "source": [
    "# Run FOOOF on the power spectra for each channel in each subject and store the results\n",
    "fg = FOOOFGroup(peak_width_limits=[1, 8], max_n_peaks=6, min_peak_amplitude=0.15, peak_threshold=2.0)\n",
    "fg.fit(freq, psd, freq_range=[2, 40])\n",
    "\n",
    "# Plot a summary of the results across the group\n",
    "fg.plot()\n",
    "\n",
    "# Save out PDF reports of the FOOOFGroup fits, same as with FOOOF\n",
    "fg.save_report('FOOOFGroup_report')"
   ]
  },
  {
   "cell_type": "code",
   "execution_count": null,
   "metadata": {},
   "outputs": [],
   "source": [
    "# Extract aperiodic parameters\n",
    "aps = fg.get_params('aperiodic_params')\n",
    "exps = fg.get_params('aperiodic_params', 'exponent')\n",
    "\n",
    "# Extract peak parameters\n",
    "peaks = fg.get_params('peak_params')\n",
    "cfs = fg.get_params('peak_params', 'CF')\n",
    "\n",
    "# Extract goodness-of-fit metrics\n",
    "errors = fg.get_params('error')\n",
    "r2s = fg.get_params('r_squared')\n",
    "\n",
    "# Create a dataframe to store the results\n",
    "df = pd.DataFrame({\n",
    "    'ch_name': chan_names,\n",
    "    'aperiodic_exponent': exps,\n",
    "    'aperiodic_offset': aps[:, 0],\n",
    "    'error': errors,\n",
    "    'r^2': r2s,\n",
    "    'power': peaks[:, 0],\n",
    "    'center_freq': cfs,\n",
    "    'bandwidth': peaks[:, 2]\n",
    "})\n",
    "\n",
    "# for each center_freq in the dataframe, create another column and store whether it falls with the delta, theta, alpha, beta, or gamma band\n",
    "df['freq_band'] = pd.cut(df['center_freq'], [0, 4, 8, 12, 30, 40], labels=['delta', 'theta', 'alpha', 'beta', 'gamma'])\n",
    "\n",
    "# for each ch_name and sub_id, create another column and store the sub_id and ch_name as a unique identifier (helpful for visualizing/stats)\n",
    "df['uniqueID'] = df['ch_name'] + '_' + df['subject']"
   ]
  },
  {
   "cell_type": "code",
   "execution_count": 7,
   "metadata": {},
   "outputs": [],
   "source": [
    "# Initialize dataframe to store fooof results with YBA labels \n",
    "df_YBA = pd.DataFrame()\n",
    "\n",
    "for subject in subject_list:\n",
    "    YBA = pd.read_csv(f'YBA_{subject}.csv')\n",
    "    df_temp = df[df['sub_id'] == subject]\n",
    "    df_temp['yba_label'] = df_temp['ch_name'].map(YBA.set_index('ch_name')['YBA'])\n",
    "    df_YBA = df_YBA.append(df_temp)"
   ]
  }
 ],
 "metadata": {
  "kernelspec": {
   "display_name": "pf",
   "language": "python",
   "name": "python3"
  },
  "language_info": {
   "codemirror_mode": {
    "name": "ipython",
    "version": 3
   },
   "file_extension": ".py",
   "mimetype": "text/x-python",
   "name": "python",
   "nbconvert_exporter": "python",
   "pygments_lexer": "ipython3",
   "version": "3.9.12"
  }
 },
 "nbformat": 4,
 "nbformat_minor": 2
}
